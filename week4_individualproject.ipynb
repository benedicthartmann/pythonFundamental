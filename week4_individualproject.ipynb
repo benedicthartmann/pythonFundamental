{
 "cells": [
  {
   "cell_type": "markdown",
   "metadata": {},
   "source": [
    "Unit Testing With OOP\n",
    "\n",
    "For this individual project we are going to test our banking system we created in our case study.\n",
    "\n",
    "This project should test the functionalities of the bank account class using python's unittest module. \n",
    "\n",
    "\n",
    "Sample test template for banking system\n",
    "\n",
    "\n",
    "class  classname(unittest.Testcase):\n",
    "\n",
    "    def test_deposit(self):\n",
    "\n",
    "        account = classname(name,amount) # enter your own name and amount \n",
    "\n",
    "        result = account.deposit(amount)\n",
    "\n",
    "        self.assertTrue(result)\n",
    "\n",
    "        self.assertEqual(account.get_balance(), amount)\n",
    "\n",
    "    def test_withdraw(self):\n",
    "\n",
    "        account = classname(name,amount) # enter your own name and amount \n",
    "\n",
    "        result = account.withdraw(amount)\n",
    "\n",
    "        self.assertTrue(result)\n",
    "\n",
    "        self.assertEqual(account.get_balance(), amount)\n",
    "\n",
    "    def test_insufficient_withdraw(self):\n",
    "\n",
    "        account = classname(name,amount) # enter your own name and amount \n",
    "\n",
    "        result = account.withdraw(amount)\n",
    "\n",
    "        self.assertFalse(result)\n",
    "\n",
    "        self.assertEqual(account.get_balance(), amount)\n",
    "\n",
    "\n",
    "if __name__==\"__main__\":\n",
    "\n",
    "    unittest.main()"
   ]
  },
  {
   "cell_type": "code",
   "execution_count": 5,
   "metadata": {},
   "outputs": [],
   "source": [
    "class BankAccount:\n",
    "    def __init__(self, account_holder, balance=0):\n",
    "        self.account_holder = account_holder\n",
    "        self.__balance = balance\n",
    "    \n",
    "    def get_balance(self):\n",
    "        return self.balance\n",
    "    \n",
    "    def deposit(self, amount):\n",
    "        if amount > 0:\n",
    "            self.balance += amount #self.__balance = self.__balance  + amount\n",
    "        else: \n",
    "            print(\"Invalid deposit amount\")\n",
    "    \n",
    "    def withdraw(self, amount):\n",
    "        if 0 < amount <= self.__balance:\n",
    "            self.__balance -= amount \n",
    "            print(f\"${amount} withdraw, new balance: ${self.__balance}.\")\n",
    "        else: \n",
    "            print(\"Too high withdraw amount\")\n",
    "    \n"
   ]
  },
  {
   "cell_type": "code",
   "execution_count": 10,
   "metadata": {},
   "outputs": [],
   "source": [
    "import unittest\n",
    "\n",
    "class TestBankAccount(unittest.TestCase):\n",
    "\n",
    "    def test_deposit(self):\n",
    "        account = BankAccount(\"Alice\", 100)\n",
    "        result =  account.deposit(50)\n",
    "        self.assertTrue(result)\n",
    "        self.assertEqual(account.get_balance(), 150)\n",
    "\n",
    "    \n",
    "    def test_insifficient_withdraw(self):\n",
    "        account = BankAccount(\"Charles\", 50)\n",
    "        result = account.withdraw(100)\n",
    "        self.assertFalse(result)\n",
    "        self.assertEqual(account.get_balance(), 50)\n",
    "\n",
    "    if __name__"
   ]
  },
  {
   "cell_type": "markdown",
   "metadata": {},
   "source": []
  },
  {
   "cell_type": "code",
   "execution_count": 3,
   "metadata": {},
   "outputs": [
    {
     "name": "stderr",
     "output_type": "stream",
     "text": [
      "......\n",
      "----------------------------------------------------------------------\n",
      "Ran 6 tests in 0.007s\n",
      "\n",
      "OK\n"
     ]
    },
    {
     "name": "stdout",
     "output_type": "stream",
     "text": [
      "Invalid deposit amount\n",
      "$40 withdraw, new balance: $60.\n",
      "Too high withdraw amount\n",
      "Too high withdraw amount\n"
     ]
    }
   ],
   "source": [
    "\n",
    "\n",
    "import unittest\n",
    "\n",
    "\n",
    "class TestBankAccount(unittest.TestCase):\n",
    "    def setUp(self):\n",
    "        \"\"\"Set up a bank account for each test\"\"\"\n",
    "        self.account = BankAccount(\"John Doe\", 100)  # Starting balance of 100\n",
    "    \n",
    "    def test_initial_balance(self):\n",
    "        \"\"\"Test if the initial balance is set correctly\"\"\"\n",
    "        self.assertEqual(self.account.get_balance(), 100)\n",
    "    \n",
    "    def test_deposit(self):\n",
    "        \"\"\"Test if deposit works correctly\"\"\"\n",
    "        self.account.deposit(50)\n",
    "        self.assertEqual(self.account.get_balance(), 150)\n",
    "    \n",
    "    def test_deposit_negative(self):\n",
    "        \"\"\"Test if depositing a negative amount is handled properly\"\"\"\n",
    "        self.account.deposit(-50)\n",
    "        self.assertEqual(self.account.get_balance(), 100)  # Balance should remain the same\n",
    "    \n",
    "    def test_withdraw(self):\n",
    "        \"\"\"Test if withdraw works correctly\"\"\"\n",
    "        self.account.withdraw(40)\n",
    "        self.assertEqual(self.account.get_balance(), 60)\n",
    "    \n",
    "    def test_withdraw_too_much(self):\n",
    "        \"\"\"Test withdrawing more than balance is handled properly\"\"\"\n",
    "        self.account.withdraw(200)\n",
    "        self.assertEqual(self.account.get_balance(), 100)  # Balance should remain the same\n",
    "    \n",
    "    def test_withdraw_negative(self):\n",
    "        \"\"\"Test withdrawing a negative amount is handled properly\"\"\"\n",
    "        self.account.withdraw(-50)\n",
    "        self.assertEqual(self.account.get_balance(), 100)  # Balance should remain the same\n",
    "\n",
    "if __name__ == '__main__':\n",
    "    unittest.main(argv=[''], exit=False)\n"
   ]
  }
 ],
 "metadata": {
  "kernelspec": {
   "display_name": "Python 3",
   "language": "python",
   "name": "python3"
  },
  "language_info": {
   "codemirror_mode": {
    "name": "ipython",
    "version": 3
   },
   "file_extension": ".py",
   "mimetype": "text/x-python",
   "name": "python",
   "nbconvert_exporter": "python",
   "pygments_lexer": "ipython3",
   "version": "3.10.9"
  }
 },
 "nbformat": 4,
 "nbformat_minor": 2
}
