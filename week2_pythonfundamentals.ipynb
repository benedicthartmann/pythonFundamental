{
 "cells": [
  {
   "cell_type": "markdown",
   "metadata": {},
   "source": [
    "Ex 2 Alle,\n",
    "Given a specific day of the week, such as Wednesday, write a Python program to determine whether it is a weekday or a weekend day. Consider Monday to Friday as weekdays and Saturday and Sunday as weekends. Print an error message for invalid input."
   ]
  },
  {
   "cell_type": "code",
   "execution_count": 9,
   "metadata": {},
   "outputs": [
    {
     "name": "stdout",
     "output_type": "stream",
     "text": [
      "Sunday is a weekend day.\n",
      "None\n"
     ]
    }
   ],
   "source": [
    "def check_day_type(day):\n",
    "\n",
    "    weekdays = ['Monday', 'Tuesday', 'Wednesday', 'Thursday', 'Friday']\n",
    "    weekends = ['Saturday', 'Sunday']\n",
    "\n",
    "    day = day.title()\n",
    "\n",
    "    if day in weekdays:\n",
    "            print(f'{input_day} is a Weekday.')\n",
    "    elif day in weekends: \n",
    "        print(f'{input_day} is a weekend day.')   \n",
    "    else: \n",
    "         print(f'Error: Invalid day of the week')\n",
    "\n",
    "\n",
    "input_day = input(\"Enter a day of the week\")\n",
    "result = check_day_type(input_day)\n",
    "\n",
    "print(result)\n"
   ]
  },
  {
   "cell_type": "markdown",
   "metadata": {},
   "source": [
    "Write a Python program to simulate a simple password authentication system. Set a password (\"MyPass@247\") and an age (25). Check if the password has more than 8 characters using the len() function. If it does, check if the user is 18 or older. If both conditions are true, print \"Access granted.\" If the age is below 18, print \"You must be 18 or older to access.\" If both conditions are false, print \"Access Denied!\""
   ]
  },
  {
   "cell_type": "code",
   "execution_count": 14,
   "metadata": {},
   "outputs": [
    {
     "name": "stdout",
     "output_type": "stream",
     "text": [
      "Invalid input. Please enter a numeric value for age.\n",
      "Invalid input. Please enter a numeric value for age.\n",
      "Invalid input. Please enter a numeric value for age.\n",
      "Access granted.\n"
     ]
    }
   ],
   "source": [
    "def authenticate_user(password, age):\n",
    "    # Define the correct password and minimum age\n",
    "    correct_password = \"MyPass@247\"\n",
    "    minimum_age = 18\n",
    "    \n",
    "    # Check if the entered password matches and has more than 8 characters\n",
    "    if len(password) > 8 and password == correct_password:\n",
    "        # Check if the user is 18 or older\n",
    "        if age >= minimum_age:\n",
    "            return \"Access granted.\"\n",
    "        else:\n",
    "            return \"You must be 18 or older to access.\"\n",
    "    else:\n",
    "        return \"Access Denied!\"\n",
    "\n",
    "# Example usage\n",
    "user_password = input(\"Enter your password: \")\n",
    "\n",
    "while True:\n",
    "    try:\n",
    "        user_age = int(input(\"Enter your age: \"))\n",
    "        break  # Exit the loop if the input is valid\n",
    "    except ValueError:\n",
    "        print(\"Invalid input. Please enter a numeric value for age.\")\n",
    "\n",
    "# Call the function and print the result\n",
    "result = authenticate_user(user_password, user_age)\n",
    "print(result)"
   ]
  }
 ],
 "metadata": {
  "kernelspec": {
   "display_name": "Python 3",
   "language": "python",
   "name": "python3"
  },
  "language_info": {
   "codemirror_mode": {
    "name": "ipython",
    "version": 3
   },
   "file_extension": ".py",
   "mimetype": "text/x-python",
   "name": "python",
   "nbconvert_exporter": "python",
   "pygments_lexer": "ipython3",
   "version": "3.10.9"
  }
 },
 "nbformat": 4,
 "nbformat_minor": 2
}
