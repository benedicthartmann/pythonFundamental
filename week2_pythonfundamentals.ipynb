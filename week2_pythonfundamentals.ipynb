{
 "cells": [
  {
   "cell_type": "markdown",
   "metadata": {},
   "source": [
    "Ex 2 Alle,\n",
    "Given a specific day of the week, such as Wednesday, write a Python program to determine whether it is a weekday or a weekend day. Consider Monday to Friday as weekdays and Saturday and Sunday as weekends. Print an error message for invalid input."
   ]
  },
  {
   "cell_type": "code",
   "execution_count": 9,
   "metadata": {},
   "outputs": [
    {
     "name": "stdout",
     "output_type": "stream",
     "text": [
      "Sunday is a weekend day.\n",
      "None\n"
     ]
    }
   ],
   "source": [
    "def check_day_type(day):\n",
    "\n",
    "    weekdays = ['Monday', 'Tuesday', 'Wednesday', 'Thursday', 'Friday']\n",
    "    weekends = ['Saturday', 'Sunday']\n",
    "\n",
    "    day = day.title()\n",
    "\n",
    "    if day in weekdays:\n",
    "            print(f'{input_day} is a Weekday.')\n",
    "    elif day in weekends: \n",
    "        print(f'{input_day} is a weekend day.')   \n",
    "    else: \n",
    "         print(f'Error: Invalid day of the week')\n",
    "\n",
    "\n",
    "input_day = input(\"Enter a day of the week\")\n",
    "result = check_day_type(input_day)\n",
    "\n",
    "print(result)\n"
   ]
  },
  {
   "cell_type": "markdown",
   "metadata": {},
   "source": [
    "Write a Python program to simulate a simple password authentication system. Set a password (\"MyPass@247\") and an age (25). Check if the password has more than 8 characters using the len() function. If it does, check if the user is 18 or older. If both conditions are true, print \"Access granted.\" If the age is below 18, print \"You must be 18 or older to access.\" If both conditions are false, print \"Access Denied!\""
   ]
  },
  {
   "cell_type": "code",
   "execution_count": 14,
   "metadata": {},
   "outputs": [
    {
     "name": "stdout",
     "output_type": "stream",
     "text": [
      "Invalid input. Please enter a numeric value for age.\n",
      "Invalid input. Please enter a numeric value for age.\n",
      "Invalid input. Please enter a numeric value for age.\n",
      "Access granted.\n"
     ]
    }
   ],
   "source": [
    "def authenticate_user(password, age):\n",
    "    # Define the password and minimum age\n",
    "    correct_password = \"MyPass@247\"\n",
    "    minimum_age = 18\n",
    "    \n",
    "    # Check if the entered password matches and has more than 8 characters\n",
    "    if len(password) > 8 and password == correct_password:\n",
    "        # Check if the user is 18 or older\n",
    "        if age >= minimum_age:\n",
    "            return \"Access granted.\"\n",
    "        else:\n",
    "            return \"You must be 18 or older to access.\"\n",
    "    else:\n",
    "        return \"Access Denied!\"\n",
    "\n",
    "# Example usage\n",
    "user_password = input(\"Enter your password: \")\n",
    "\n",
    "while True:\n",
    "    try:\n",
    "        user_age = int(input(\"Enter your age: \"))\n",
    "        break  # Exit the loop if the input is valid\n",
    "    except ValueError:\n",
    "        print(\"Invalid input. Please enter a numeric value for age.\")\n",
    "\n",
    "# Call the function and print the result\n",
    "result = authenticate_user(user_password, user_age)\n",
    "print(result)"
   ]
  },
  {
   "cell_type": "code",
   "execution_count": 24,
   "metadata": {},
   "outputs": [
    {
     "data": {
      "text/plain": [
       "['apple', 'banana', 'orange']"
      ]
     },
     "execution_count": 24,
     "metadata": {},
     "output_type": "execute_result"
    }
   ],
   "source": [
    "fruits = ['apple', 'banana', 'orange']\n",
    "\n",
    "new_fruit = []\n",
    "\n",
    "for i in fruits: \n",
    "    new_fruit.append(i)\n",
    "\n",
    "new_fruit\n",
    "\n"
   ]
  },
  {
   "cell_type": "code",
   "execution_count": 25,
   "metadata": {},
   "outputs": [
    {
     "name": "stdout",
     "output_type": "stream",
     "text": [
      "0\n",
      "1\n",
      "2\n",
      "3\n",
      "4\n",
      "5\n",
      "6\n",
      "7\n",
      "8\n",
      "9\n",
      "10\n",
      "11\n",
      "12\n",
      "13\n",
      "14\n"
     ]
    }
   ],
   "source": [
    "range1 = range(15)\n",
    "\n",
    "for num in range1:\n",
    "    print(num)"
   ]
  },
  {
   "cell_type": "code",
   "execution_count": 26,
   "metadata": {},
   "outputs": [
    {
     "data": {
      "text/plain": [
       "3"
      ]
     },
     "execution_count": 26,
     "metadata": {},
     "output_type": "execute_result"
    }
   ],
   "source": [
    "len(fruits)"
   ]
  },
  {
   "cell_type": "code",
   "execution_count": 31,
   "metadata": {},
   "outputs": [
    {
     "name": "stdout",
     "output_type": "stream",
     "text": [
      "banana\n",
      "orange\n"
     ]
    }
   ],
   "source": [
    "for i in range(1, len(fruits)):\n",
    "    print(fruits[i])"
   ]
  },
  {
   "cell_type": "code",
   "execution_count": 32,
   "metadata": {},
   "outputs": [
    {
     "name": "stdout",
     "output_type": "stream",
     "text": [
      "1\n",
      "2\n",
      "3\n",
      "4\n",
      "5\n",
      "6\n",
      "7\n",
      "8\n",
      "9\n",
      "10\n",
      "11\n"
     ]
    }
   ],
   "source": [
    "counter = 0\n",
    "\n",
    "while counter <11:  \n",
    "    counter +=1\n",
    "    print(counter)"
   ]
  },
  {
   "cell_type": "markdown",
   "metadata": {},
   "source": [
    "ex 1\n",
    "Write a Python program to create a list of your favorite countries and then print each country on a new line."
   ]
  },
  {
   "cell_type": "code",
   "execution_count": 34,
   "metadata": {},
   "outputs": [
    {
     "name": "stdout",
     "output_type": "stream",
     "text": [
      "Germany\n",
      "Thailand\n",
      "Spain\n"
     ]
    }
   ],
   "source": [
    "countries = ['Germany','Thailand', 'Spain']\n",
    "\n",
    "for i in range(0, len(countries)):\n",
    "    print(countries[i])"
   ]
  },
  {
   "cell_type": "markdown",
   "metadata": {},
   "source": [
    "Ex 2\n",
    "Write a Python program that removes duplicates from the list of numbers provided below and prints a new list with unique elements. Include comments to explain each step of the process."
   ]
  },
  {
   "cell_type": "code",
   "execution_count": 35,
   "metadata": {},
   "outputs": [
    {
     "name": "stdout",
     "output_type": "stream",
     "text": [
      "List of unique number: [1, 2, 3, 4, 5, 6, 7, 8, 9, 10]\n"
     ]
    }
   ],
   "source": [
    "numbers_with_duplicates = [1, 2, 3, 4, 5, 1, 2, 6, 7, 8, 3, 9, 10, 5]\n",
    "\n",
    "# Use the set() function to remove duplicates\n",
    "# Sets in Python only allow unique elements\n",
    "\n",
    "unique_numbers = list(set(numbers_with_duplicates))\n",
    "\n",
    "print(\"List of unique number:\", unique_numbers)\n"
   ]
  },
  {
   "cell_type": "markdown",
   "metadata": {},
   "source": [
    "Ex 3\n",
    "Write a Python program that adds \"TypeScript\" to the set below, and then checks to confirm if \"TypeScript\" is in the set."
   ]
  },
  {
   "cell_type": "code",
   "execution_count": 38,
   "metadata": {},
   "outputs": [
    {
     "name": "stdout",
     "output_type": "stream",
     "text": [
      "TypeScript has been added to the set\n",
      "Updated Set: {'kiwi', 'grape', 'TypeScript', 'elderberry', 'fig', 'banana', 'honeydew', 'cherry', 'apple', 'date', 'lemon'}\n"
     ]
    }
   ],
   "source": [
    "word_set = {\"apple\", \"banana\", \"cherry\", \"date\", \"elderberry\", \"fig\", \"grape\", \"honeydew\", \"kiwi\", \"lemon\"}\n",
    "\n",
    "word_set.add(\"TypeScript\")\n",
    "\n",
    "if \"TypeScript\" in word_set:\n",
    "    print(\"TypeScript has been added to the set\")\n",
    "else: \n",
    "    print(\"TypScript is not in the set:\")\n",
    "\n",
    "print(\"Updated Set:\", word_set)\n"
   ]
  },
  {
   "cell_type": "code",
   "execution_count": 1,
   "metadata": {},
   "outputs": [
    {
     "name": "stdout",
     "output_type": "stream",
     "text": [
      "['ArithmeticError', 'AssertionError', 'AttributeError', 'BaseException', 'BlockingIOError', 'BrokenPipeError', 'BufferError', 'BytesWarning', 'ChildProcessError', 'ConnectionAbortedError', 'ConnectionError', 'ConnectionRefusedError', 'ConnectionResetError', 'DeprecationWarning', 'EOFError', 'Ellipsis', 'EncodingWarning', 'EnvironmentError', 'Exception', 'False', 'FileExistsError', 'FileNotFoundError', 'FloatingPointError', 'FutureWarning', 'GeneratorExit', 'IOError', 'ImportError', 'ImportWarning', 'IndentationError', 'IndexError', 'InterruptedError', 'IsADirectoryError', 'KeyError', 'KeyboardInterrupt', 'LookupError', 'MemoryError', 'ModuleNotFoundError', 'NameError', 'None', 'NotADirectoryError', 'NotImplemented', 'NotImplementedError', 'OSError', 'OverflowError', 'PendingDeprecationWarning', 'PermissionError', 'ProcessLookupError', 'RecursionError', 'ReferenceError', 'ResourceWarning', 'RuntimeError', 'RuntimeWarning', 'StopAsyncIteration', 'StopIteration', 'SyntaxError', 'SyntaxWarning', 'SystemError', 'SystemExit', 'TabError', 'TimeoutError', 'True', 'TypeError', 'UnboundLocalError', 'UnicodeDecodeError', 'UnicodeEncodeError', 'UnicodeError', 'UnicodeTranslateError', 'UnicodeWarning', 'UserWarning', 'ValueError', 'Warning', 'WindowsError', 'ZeroDivisionError', '__IPYTHON__', '__build_class__', '__debug__', '__doc__', '__import__', '__loader__', '__name__', '__package__', '__spec__', 'abs', 'aiter', 'all', 'anext', 'any', 'ascii', 'bin', 'bool', 'breakpoint', 'bytearray', 'bytes', 'callable', 'chr', 'classmethod', 'compile', 'complex', 'copyright', 'credits', 'delattr', 'dict', 'dir', 'display', 'divmod', 'enumerate', 'eval', 'exec', 'execfile', 'filter', 'float', 'format', 'frozenset', 'get_ipython', 'getattr', 'globals', 'hasattr', 'hash', 'help', 'hex', 'id', 'input', 'int', 'isinstance', 'issubclass', 'iter', 'len', 'license', 'list', 'locals', 'map', 'max', 'memoryview', 'min', 'next', 'object', 'oct', 'open', 'ord', 'pow', 'print', 'property', 'range', 'repr', 'reversed', 'round', 'runfile', 'set', 'setattr', 'slice', 'sorted', 'staticmethod', 'str', 'sum', 'super', 'tuple', 'type', 'vars', 'zip']\n"
     ]
    }
   ],
   "source": [
    "print(dir(__builtins__))\n",
    "\n",
    "builtin_functions = "
   ]
  },
  {
   "cell_type": "code",
   "execution_count": 4,
   "metadata": {},
   "outputs": [
    {
     "name": "stdout",
     "output_type": "stream",
     "text": [
      "Welcome to Python\n"
     ]
    }
   ],
   "source": [
    "def greet():\n",
    "\n",
    "    print(\"Welcome to Python\")\n",
    "\n",
    "greet()"
   ]
  },
  {
   "cell_type": "code",
   "execution_count": 10,
   "metadata": {},
   "outputs": [
    {
     "name": "stdout",
     "output_type": "stream",
     "text": [
      "Welcome Glen, to Python\n"
     ]
    }
   ],
   "source": [
    "def greeting(name):\n",
    "    print(f\"Welcome {name}, to Python\")\n",
    "\n",
    "greeting(\"Glen\")"
   ]
  },
  {
   "cell_type": "code",
   "execution_count": 18,
   "metadata": {},
   "outputs": [
    {
     "data": {
      "text/plain": [
       "3"
      ]
     },
     "execution_count": 18,
     "metadata": {},
     "output_type": "execute_result"
    }
   ],
   "source": [
    "def add_numbers(a, b):\n",
    "    sum = a+b\n",
    "    return sum\n",
    "\n",
    "\n",
    "add_numbers(1,2)"
   ]
  },
  {
   "cell_type": "code",
   "execution_count": 19,
   "metadata": {},
   "outputs": [
    {
     "name": "stdout",
     "output_type": "stream",
     "text": [
      "Welcome Benny, to Python\n"
     ]
    }
   ],
   "source": [
    "greeting(\"Benny\")"
   ]
  },
  {
   "cell_type": "code",
   "execution_count": 22,
   "metadata": {},
   "outputs": [
    {
     "data": {
      "text/plain": [
       "19"
      ]
     },
     "execution_count": 22,
     "metadata": {},
     "output_type": "execute_result"
    }
   ],
   "source": [
    "var = add_numbers(7,5)\n",
    "int(var) +7"
   ]
  },
  {
   "cell_type": "code",
   "execution_count": 29,
   "metadata": {},
   "outputs": [],
   "source": [
    "def multiply(x, y):\n",
    "    \"\"\"\n",
    "    Multiply two numbers and return output\n",
    "    \"\"\"\n",
    "\n",
    "    return x*y\n",
    "\n",
    "\n",
    "\n"
   ]
  },
  {
   "cell_type": "code",
   "execution_count": 30,
   "metadata": {},
   "outputs": [
    {
     "data": {
      "text/plain": [
       "20"
      ]
     },
     "execution_count": 30,
     "metadata": {},
     "output_type": "execute_result"
    }
   ],
   "source": [
    "multiply(4,5)"
   ]
  },
  {
   "cell_type": "markdown",
   "metadata": {},
   "source": [
    "Ex 1 \n",
    "Write a Python function that asks the user to enter their name and prints a greeting message including their name when the function is called. For example, if the user enters \"Team\", the program should print \"*Hello, Team!*\"."
   ]
  },
  {
   "cell_type": "code",
   "execution_count": 53,
   "metadata": {},
   "outputs": [
    {
     "name": "stdout",
     "output_type": "stream",
     "text": [
      "Hello, Team!\n"
     ]
    }
   ],
   "source": [
    "def greeting_name():\n",
    "    name = input(\"Please enter your name:\")\n",
    "\n",
    "    print(f\"Hello, {name}!\")\n",
    "\n",
    "greeting_name()\n",
    "\n"
   ]
  },
  {
   "cell_type": "markdown",
   "metadata": {},
   "source": [
    "Ex 2 \n",
    "Create a function that asks the user for two numbers, adds them together, and prints the result. Ensure the program handles the case where the user does not enter a valid number."
   ]
  },
  {
   "cell_type": "code",
   "execution_count": 61,
   "metadata": {},
   "outputs": [
    {
     "name": "stdout",
     "output_type": "stream",
     "text": [
      "The sum of 500 and 200 is 700.0.\n"
     ]
    },
    {
     "data": {
      "text/plain": [
       "700.0"
      ]
     },
     "execution_count": 61,
     "metadata": {},
     "output_type": "execute_result"
    }
   ],
   "source": [
    "def add_two_numbers():\n",
    "    # Den Benutzer nach der ersten Zahl fragen\n",
    "    number1 = input(\"Please enter number 1: \")\n",
    "    # Den Benutzer nach der zweiten Zahl fragen\n",
    "    number2 = input(\"Please enter number 2: \")\n",
    "\n",
    "    if number1.isdigit() and number2.isdigit():\n",
    "\n",
    "        sum = float(number1) + float(number2)\n",
    "        print(f\"The sum of {number1} and {number2} is {sum}.\")\n",
    "    \n",
    "    else:\n",
    "        # Meldung, wenn eine Eingabe keine gültige Zahl ist\n",
    "        print(\"Invalid input. Please enter valid numbers.\")\n",
    "    return sum\n",
    "\n",
    "# Funktion aufrufen\n",
    "add_two_numbers()\n"
   ]
  },
  {
   "cell_type": "code",
   "execution_count": 31,
   "metadata": {},
   "outputs": [],
   "source": [
    "def add(x,y):\n",
    "    return x+y"
   ]
  },
  {
   "cell_type": "code",
   "execution_count": 32,
   "metadata": {},
   "outputs": [
    {
     "data": {
      "text/plain": [
       "14"
      ]
     },
     "execution_count": 32,
     "metadata": {},
     "output_type": "execute_result"
    }
   ],
   "source": [
    "add(5,9)"
   ]
  },
  {
   "cell_type": "code",
   "execution_count": 34,
   "metadata": {},
   "outputs": [],
   "source": [
    "add1 = lambda x,y :x+y\n",
    "\n",
    "\n"
   ]
  },
  {
   "cell_type": "code",
   "execution_count": 35,
   "metadata": {},
   "outputs": [
    {
     "data": {
      "text/plain": [
       "14"
      ]
     },
     "execution_count": 35,
     "metadata": {},
     "output_type": "execute_result"
    }
   ],
   "source": [
    "add1(5,9)"
   ]
  },
  {
   "cell_type": "code",
   "execution_count": 44,
   "metadata": {},
   "outputs": [],
   "source": [
    "def is_even(x):\n",
    "    return x%2==0\n",
    "\n",
    "\n",
    "is_even1 = lambda x : x%2 == 0\n",
    "    \n"
   ]
  },
  {
   "cell_type": "code",
   "execution_count": 45,
   "metadata": {},
   "outputs": [
    {
     "data": {
      "text/plain": [
       "True"
      ]
     },
     "execution_count": 45,
     "metadata": {},
     "output_type": "execute_result"
    }
   ],
   "source": [
    "is_even(6)"
   ]
  },
  {
   "cell_type": "code",
   "execution_count": 47,
   "metadata": {},
   "outputs": [
    {
     "data": {
      "text/plain": [
       "False"
      ]
     },
     "execution_count": 47,
     "metadata": {},
     "output_type": "execute_result"
    }
   ],
   "source": [
    "is_even1(5)"
   ]
  }
 ],
 "metadata": {
  "kernelspec": {
   "display_name": "Python 3",
   "language": "python",
   "name": "python3"
  },
  "language_info": {
   "codemirror_mode": {
    "name": "ipython",
    "version": 3
   },
   "file_extension": ".py",
   "mimetype": "text/x-python",
   "name": "python",
   "nbconvert_exporter": "python",
   "pygments_lexer": "ipython3",
   "version": "3.10.9"
  }
 },
 "nbformat": 4,
 "nbformat_minor": 2
}
