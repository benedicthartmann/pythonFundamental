{
 "cells": [
  {
   "cell_type": "code",
   "execution_count": 15,
   "metadata": {},
   "outputs": [
    {
     "name": "stdout",
     "output_type": "stream",
     "text": [
      "For a 30-year mortgage loan of 100,000 at an annual interest rate of 7.5 you pay $6,992.15 monthly. The total amount will be $2,517,172.23.\n"
     ]
    }
   ],
   "source": [
    "principal = 1000000\n",
    "interest = 7.5\n",
    "monthly_interest = interest / 100 / 12\n",
    "years = 30\n",
    "months = years * 12\n",
    "\n",
    "formula = principal*(monthly_interest * (1 + monthly_interest) ** months) / ((1 + monthly_interest)**months - 1)\n",
    "\n",
    "formula_m = formula * months\n",
    "\n",
    "print(f'For a {years}-year mortgage loan of 100,000 at an annual interest rate of {interest} you pay ${formula:,.2f} monthly. The total amount will be ${formula_m:,.2f}.')\n",
    "\n",
    "\n",
    "\n"
   ]
  }
 ],
 "metadata": {
  "kernelspec": {
   "display_name": "Python 3",
   "language": "python",
   "name": "python3"
  },
  "language_info": {
   "codemirror_mode": {
    "name": "ipython",
    "version": 3
   },
   "file_extension": ".py",
   "mimetype": "text/x-python",
   "name": "python",
   "nbconvert_exporter": "python",
   "pygments_lexer": "ipython3",
   "version": "3.10.9"
  }
 },
 "nbformat": 4,
 "nbformat_minor": 2
}
