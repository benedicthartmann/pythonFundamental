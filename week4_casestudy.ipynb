{
 "cells": [
  {
   "cell_type": "markdown",
   "metadata": {},
   "source": [
    "\n",
    "CASE STUDY: OOP-Based Banking System\n",
    "\n",
    "\n",
    "In this case study we are going to put our knowledge from OOP to create a project simulates a simple banking system where customers can create accounts, deposit and withdraw money, and check balances using classes and methods.\n"
   ]
  },
  {
   "cell_type": "code",
   "execution_count": 41,
   "metadata": {},
   "outputs": [],
   "source": [
    "class BankAccount:\n",
    "    def __init__(self, account_holder, balance=0):\n",
    "        self.account_holder = account_holder\n",
    "        self.__balance = balance\n",
    "    \n",
    "    def get_balance(self):\n",
    "        return self.__balance\n",
    "    \n",
    "    def deposit(self, amount):\n",
    "        if amount > 0:\n",
    "            self.__balance += amount #self.__balance = self.__balance  + amount\n",
    "        else: \n",
    "            print(\"Invalid deposit amount\")\n",
    "    \n",
    "    def withdraw(self, amount):\n",
    "        if 0 < amount <= self.__balance:\n",
    "            self.__balance -= amount \n",
    "            print(f\"${amount} withdraw, new balance: ${self.__balance}.\")\n",
    "        else: \n",
    "            print(\"Too high withdraw amount\")\n",
    "    \n"
   ]
  },
  {
   "cell_type": "code",
   "execution_count": 42,
   "metadata": {},
   "outputs": [],
   "source": [
    "#test\n",
    "account = BankAccount(\"John Doe\")\n"
   ]
  },
  {
   "cell_type": "code",
   "execution_count": 43,
   "metadata": {},
   "outputs": [
    {
     "data": {
      "text/plain": [
       "0"
      ]
     },
     "execution_count": 43,
     "metadata": {},
     "output_type": "execute_result"
    }
   ],
   "source": [
    "account.get_balance()"
   ]
  },
  {
   "cell_type": "code",
   "execution_count": 44,
   "metadata": {},
   "outputs": [],
   "source": [
    "account.deposit(1000)"
   ]
  },
  {
   "cell_type": "code",
   "execution_count": 45,
   "metadata": {},
   "outputs": [
    {
     "name": "stdout",
     "output_type": "stream",
     "text": [
      "$700 withdraw, new balance: $300.\n"
     ]
    }
   ],
   "source": [
    "account.withdraw(700)"
   ]
  },
  {
   "cell_type": "markdown",
   "metadata": {},
   "source": [
    "Individual Project"
   ]
  },
  {
   "cell_type": "code",
   "execution_count": 46,
   "metadata": {},
   "outputs": [],
   "source": [
    "import unittest\n"
   ]
  },
  {
   "cell_type": "code",
   "execution_count": 54,
   "metadata": {},
   "outputs": [
    {
     "name": "stderr",
     "output_type": "stream",
     "text": [
      "......\n",
      "----------------------------------------------------------------------\n",
      "Ran 6 tests in 0.008s\n",
      "\n",
      "OK\n"
     ]
    },
    {
     "name": "stdout",
     "output_type": "stream",
     "text": [
      "Invalid deposit amount\n",
      "$40 withdraw, new balance: $60.\n",
      "Too high withdraw amount\n",
      "Too high withdraw amount\n"
     ]
    }
   ],
   "source": [
    "\n",
    "\n",
    "import unittest\n",
    "\n",
    "# Assuming your BankAccount class is in the same file or has been imported\n",
    "\n",
    "class TestBankAccount(unittest.TestCase):\n",
    "    def setUp(self):\n",
    "        \"\"\"Set up a bank account for each test\"\"\"\n",
    "        self.account = BankAccount(\"John Doe\", 100)  # Starting balance of 100\n",
    "    \n",
    "    def test_initial_balance(self):\n",
    "        \"\"\"Test if the initial balance is set correctly\"\"\"\n",
    "        self.assertEqual(self.account.get_balance(), 100)\n",
    "    \n",
    "    def test_deposit(self):\n",
    "        \"\"\"Test if deposit works correctly\"\"\"\n",
    "        self.account.deposit(50)\n",
    "        self.assertEqual(self.account.get_balance(), 150)\n",
    "    \n",
    "    def test_deposit_negative(self):\n",
    "        \"\"\"Test if depositing a negative amount is handled properly\"\"\"\n",
    "        self.account.deposit(-50)\n",
    "        self.assertEqual(self.account.get_balance(), 100)  # Balance should remain the same\n",
    "    \n",
    "    def test_withdraw(self):\n",
    "        \"\"\"Test if withdraw works correctly\"\"\"\n",
    "        self.account.withdraw(40)\n",
    "        self.assertEqual(self.account.get_balance(), 60)\n",
    "    \n",
    "    def test_withdraw_too_much(self):\n",
    "        \"\"\"Test withdrawing more than balance is handled properly\"\"\"\n",
    "        self.account.withdraw(200)\n",
    "        self.assertEqual(self.account.get_balance(), 100)  # Balance should remain the same\n",
    "    \n",
    "    def test_withdraw_negative(self):\n",
    "        \"\"\"Test withdrawing a negative amount is handled properly\"\"\"\n",
    "        self.account.withdraw(-50)\n",
    "        self.assertEqual(self.account.get_balance(), 100)  # Balance should remain the same\n",
    "\n",
    "if __name__ == '__main__':\n",
    "    unittest.main(argv=[''], exit=False)\n"
   ]
  }
 ],
 "metadata": {
  "kernelspec": {
   "display_name": "Python 3",
   "language": "python",
   "name": "python3"
  },
  "language_info": {
   "codemirror_mode": {
    "name": "ipython",
    "version": 3
   },
   "file_extension": ".py",
   "mimetype": "text/x-python",
   "name": "python",
   "nbconvert_exporter": "python",
   "pygments_lexer": "ipython3",
   "version": "3.10.9"
  }
 },
 "nbformat": 4,
 "nbformat_minor": 2
}
