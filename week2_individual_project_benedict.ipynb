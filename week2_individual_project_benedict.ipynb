{
 "cells": [
  {
   "cell_type": "code",
   "execution_count": null,
   "metadata": {},
   "outputs": [],
   "source": [
    "initial_stock_level = input(\"initial stock level\")\n",
    "number_of_months = input(\"number of months\")\n",
    "planned_sales_quantity = input(\"planned sales quantity\")\n",
    "\n",
    "if planned_sales_quantity < initial_stock_level\n",
    "    \n",
    "\n"
   ]
  },
  {
   "cell_type": "code",
   "execution_count": 3,
   "metadata": {},
   "outputs": [
    {
     "name": "stdout",
     "output_type": "stream",
     "text": [
      "The resulting production quantities are:\n",
      "Production quantity month 1 - 0\n",
      "Production quantity month 2 - 150\n",
      "Production quantity month 3 - 200\n",
      "Production quantity month 4 - 400\n",
      "Production quantity month 5 - 200\n",
      "Production quantity month 6 - 100\n",
      "Production quantity month 7 - 200\n"
     ]
    }
   ],
   "source": [
    "# Sales and Operations Planning Simulation using Zero Stock Level Strategy\n",
    "\n",
    "# Getting inputs from user\n",
    "initial_stock = int(input(\"Please enter an initial stock level: \"))\n",
    "months_to_plan = int(input(\"Please enter the number of months to plan: \"))\n",
    "\n",
    "# List to store sales quantities for each month\n",
    "sales_quantities = []\n",
    "\n",
    "# Get sales quantities for each month from the user\n",
    "for month in range(1, months_to_plan + 1):\n",
    "    sales_quantity = int(input(f\"Please enter the planned sales quantity for month {month}: \"))\n",
    "    sales_quantities.append(sales_quantity)\n",
    "\n",
    "# Initialize stock level and production quantities list\n",
    "previous_stock = initial_stock\n",
    "production_quantities = []\n",
    "\n",
    "# Calculate production quantities based on zero stock level strategy\n",
    "for i in range(months_to_plan):\n",
    "    if sales_quantities[i] <= previous_stock:\n",
    "        production_quantities.append(0)\n",
    "        previous_stock -= sales_quantities[i]\n",
    "    else:\n",
    "        production_needed = sales_quantities[i] - previous_stock\n",
    "        production_quantities.append(production_needed)\n",
    "        previous_stock = 0  # Reset stock to zero after producing enough\n",
    "\n",
    "# Display the resulting production quantities\n",
    "print(\"The resulting production quantities are:\")\n",
    "for month in range(months_to_plan):\n",
    "    print(f\"Production quantity month {month + 1} - {production_quantities[month]}\")"
   ]
  }
 ],
 "metadata": {
  "kernelspec": {
   "display_name": "Python 3",
   "language": "python",
   "name": "python3"
  },
  "language_info": {
   "codemirror_mode": {
    "name": "ipython",
    "version": 3
   },
   "file_extension": ".py",
   "mimetype": "text/x-python",
   "name": "python",
   "nbconvert_exporter": "python",
   "pygments_lexer": "ipython3",
   "version": "3.10.9"
  }
 },
 "nbformat": 4,
 "nbformat_minor": 2
}
