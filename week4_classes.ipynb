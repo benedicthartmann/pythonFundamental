{
 "cells": [
  {
   "cell_type": "markdown",
   "metadata": {},
   "source": [
    "# Classes\n",
    "Strings, dictionaries, files, and integers are all objects. Even functions are objects. In Python,\n",
    "almost everything is an object.\n",
    "\n",
    "Object is a some what ambiguous term. One definition of “Object-Oriented Programming”\n",
    "is using structures to group together data (state) and methods\n",
    "\n",
    "Python use classes to define what state an object can hold and the methods to alter that state.\n",
    "\n",
    "It is said that Python comes with “batteries included”—it has libraries and classes predefined for your use. These classes tend to be generic. You can define your own classes\n",
    "\n",
    "that deal specifically with your problem domain. You can create customized objects that\n",
    "contain state, and as well as logic to change that state.\n",
    "\n",
    "In Python, a class is a blueprint for creating objects (instances). \n",
    "\n",
    "It defines the structure and behavior that objects created from the class will have. Classes are a fundamental concept in object-oriented programming (OOP).\n",
    "\n",
    "The class is like a factory that determines how its instance objects behave.\n",
    "\n",
    "An object is created by the constructor method. This method is named __init__."
   ]
  },
  {
   "cell_type": "markdown",
   "metadata": {},
   "source": [
    "Classes might be useful to provide a programmatic representation of something that is a physical object, or a conceptual object. Something that is a description such as speed, temperature, average, or color are not good candidates for classes.\n",
    "\n",
    "Once you have decided that you want to model something with a class, ask yourself the following questions:\n",
    "\n",
    "• Does it have a name?\n",
    "\n",
    "• What are the properties that is has?\n",
    "\n",
    "• Are these properties constant between instances of the class? ie:\n",
    "\n",
    "        – Which of these properties are common to the class?\n",
    "        – Which of these properties are unique to each member?\n",
    "        \n",
    "• What actions does it do?"
   ]
  },
  {
   "cell_type": "markdown",
   "metadata": {},
   "source": [
    "# Defining a class\n",
    "\n",
    "You can define a class in Python using the class keyword. \n",
    "\n",
    "Inside a class, you can define attributes (data members) and methods (functions). \n",
    "\n",
    "Here's a simple example of a class definition:\n",
    "\n",
    "example 1\n",
    "\n",
    "```{python}\n",
    "class Dog:\n",
    "    def __init__(self, breed, age):\n",
    "        self.breed = breed\n",
    "        self.age = age\n",
    "\n",
    "    def dog_info(self):\n",
    "        print(f\"the dog is a {self.breed}, with an age of {self.age}.\")\n",
    "\n",
    "############################################################################################\n",
    "\n",
    "example 2\n",
    "\n",
    "A calculator class\n",
    "\n",
    "class Calculator:\n",
    "    def add(self, x, y):\n",
    "        return x + y\n",
    "\n",
    "    def subtract(self, x, y):\n",
    "        return x - y\n",
    "\n",
    "    def multiply(self, x, y):\n",
    "        return x * y\n",
    "\n",
    "    def divide(self, x, y):\n",
    "        if y == 0:\n",
    "            return \"Error: Division by zero is not allowed.\"\n",
    "        return x / y\n",
    "```\n",
    "\n"
   ]
  },
  {
   "cell_type": "markdown",
   "metadata": {},
   "source": [
    "example 1 above, we've defined a Dog class with a constructor (__init__ method) that initializes two attributes (breed and age) and a dog_info method that prints the breed and age.\n",
    "\n",
    "\n",
    "example 2, the calculator class above includes methods for basic arithmetic operations like addition, subtraction, multiplication, and division\n",
    "\n"
   ]
  },
  {
   "cell_type": "markdown",
   "metadata": {},
   "source": [
    "### Creating Objects (Instances)\n",
    "\n",
    "Once you've defined a class, you can create objects (instances) of that class by calling the class as if it were a function\n",
    "\n",
    "```{python}\n",
    "\n",
    "# from the Dog class\n",
    "dog1 = Dog(\"multScottish Terrier\", 4)\n",
    "dog2 = Dog(\"Great Dane\", 2)\n",
    "\n",
    "You can create an instance of the Calculator class and use its methods to perform calculations\n",
    "\n",
    "# from the calculator class\n",
    "\n",
    "# Create a calculator object\n",
    "calculator = Calculator()\n",
    "\n",
    "# Perform calculations\n",
    "result_add = calculator.add(5, 3)\n",
    "result_subtract = calculator.subtract(10, 4)\n",
    "result_multiply = calculator.multiply(6, 2)\n",
    "result_divide = calculator.divide(8, 2)\n",
    "\n",
    "# Print the results\n",
    "print(\"Addition:\", result_add)\n",
    "print(\"Subtraction:\", result_subtract)\n",
    "print(\"Multiplication:\", result_multiply)\n",
    "print(\"Division:\", result_divide)\n",
    "\n",
    "\n",
    "```"
   ]
  },
  {
   "cell_type": "markdown",
   "metadata": {},
   "source": [
    "# Examining an instance\n",
    "\n",
    "To examine an instaance we use the `dir()` with the class we need to examine.\n"
   ]
  },
  {
   "cell_type": "code",
   "execution_count": 1,
   "metadata": {},
   "outputs": [],
   "source": [
    "class Calculator:\n",
    "    def add(self, x, y):\n",
    "        return x + y\n",
    "\n",
    "    def subtract(self, x, y):\n",
    "        return x - y\n",
    "\n",
    "    def multiply(self, x, y):\n",
    "        return x * y\n",
    "\n",
    "    def divide(self, x, y):\n",
    "        if y == 0:\n",
    "            return \"Error: Division by zero is not allowed.\"\n",
    "        return x / y"
   ]
  },
  {
   "cell_type": "code",
   "execution_count": 2,
   "metadata": {},
   "outputs": [
    {
     "data": {
      "text/plain": [
       "['__class__',\n",
       " '__delattr__',\n",
       " '__dict__',\n",
       " '__dir__',\n",
       " '__doc__',\n",
       " '__eq__',\n",
       " '__format__',\n",
       " '__ge__',\n",
       " '__getattribute__',\n",
       " '__gt__',\n",
       " '__hash__',\n",
       " '__init__',\n",
       " '__init_subclass__',\n",
       " '__le__',\n",
       " '__lt__',\n",
       " '__module__',\n",
       " '__ne__',\n",
       " '__new__',\n",
       " '__reduce__',\n",
       " '__reduce_ex__',\n",
       " '__repr__',\n",
       " '__setattr__',\n",
       " '__sizeof__',\n",
       " '__str__',\n",
       " '__subclasshook__',\n",
       " '__weakref__',\n",
       " 'add',\n",
       " 'divide',\n",
       " 'multiply',\n",
       " 'subtract']"
      ]
     },
     "execution_count": 2,
     "metadata": {},
     "output_type": "execute_result"
    }
   ],
   "source": [
    "dir(Calculator)"
   ]
  }
 ],
 "metadata": {
  "kernelspec": {
   "display_name": "Python 3",
   "language": "python",
   "name": "python3"
  },
  "language_info": {
   "codemirror_mode": {
    "name": "ipython",
    "version": 3
   },
   "file_extension": ".py",
   "mimetype": "text/x-python",
   "name": "python",
   "nbconvert_exporter": "python",
   "pygments_lexer": "ipython3",
   "version": "3.10.9"
  },
  "orig_nbformat": 4
 },
 "nbformat": 4,
 "nbformat_minor": 2
}
