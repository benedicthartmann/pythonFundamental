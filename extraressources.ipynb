{
 "cells": [
  {
   "cell_type": "code",
   "execution_count": 2,
   "metadata": {},
   "outputs": [
    {
     "name": "stdout",
     "output_type": "stream",
     "text": [
      "Please enter a valid integer.\n"
     ]
    }
   ],
   "source": [
    "# Project 1\n",
    "def check_even_odd():\n",
    "    try:\n",
    "        # Get user input\n",
    "        number = int(input(\"Enter a number: \"))\n",
    "        \n",
    "        # Check if the number is even or odd\n",
    "        if number % 2 == 0:\n",
    "            print(f\"{number} is even.\")\n",
    "        else:\n",
    "            print(f\"{number} is odd.\")\n",
    "    except ValueError:\n",
    "        print(\"Please enter a valid integer.\")\n",
    "\n",
    "# Call the function\n",
    "check_even_odd()"
   ]
  },
  {
   "cell_type": "code",
   "execution_count": 14,
   "metadata": {},
   "outputs": [
    {
     "name": "stdout",
     "output_type": "stream",
     "text": [
      "Capitalized Text: Mir Gehts Gur\n"
     ]
    }
   ],
   "source": [
    "#Project 2\n",
    "\n",
    "def capitalize():\n",
    "    try:\n",
    "        # Get user input\n",
    "        string = str(input(\"Enter your text: \"))\n",
    "\n",
    "        string_cap = string.title()\n",
    "\n",
    "        print(\"Capitalized Text:\", string_cap)\n",
    "    except ValueError:\n",
    "        print(\"Please enter a valid string.\")\n",
    "\n",
    "capitalize()"
   ]
  },
  {
   "cell_type": "code",
   "execution_count": 16,
   "metadata": {},
   "outputs": [
    {
     "name": "stdout",
     "output_type": "stream",
     "text": [
      "Reversed Text: ollaH\n"
     ]
    }
   ],
   "source": [
    "#project 3 \n",
    "\n",
    "def reverse():\n",
    "    try:\n",
    "        # Get user input\n",
    "        string = str(input(\"Enter your text: \"))\n",
    "\n",
    "        string_re = string[::-1]\n",
    "\n",
    "        print(\"Reversed Text:\", string_re)\n",
    "    except ValueError:\n",
    "        print(\"Please enter a valid string.\")\n",
    "\n",
    "reverse()\n",
    "\n"
   ]
  },
  {
   "cell_type": "code",
   "execution_count": 18,
   "metadata": {},
   "outputs": [
    {
     "name": "stdout",
     "output_type": "stream",
     "text": [
      "Reversed Splittet Text: gehts wie Hallo\n"
     ]
    }
   ],
   "source": [
    "#project 4\n",
    "\n",
    "def reverse_split():\n",
    "    try:\n",
    "        # Get user input\n",
    "        string = str(input(\"Enter your text: \"))\n",
    "\n",
    "        words = string.split()\n",
    "\n",
    "        string_re_spl = words[::-1]\n",
    "\n",
    "        reversed_text = ' '.join(string_re_spl)       \n",
    "\n",
    "        print(\"Reversed Splittet Text:\", reversed_text)\n",
    "    except ValueError:\n",
    "        print(\"Please enter a valid string.\")\n",
    "\n",
    "reverse_split()\n",
    "\n"
   ]
  }
 ],
 "metadata": {
  "kernelspec": {
   "display_name": "Python 3",
   "language": "python",
   "name": "python3"
  },
  "language_info": {
   "codemirror_mode": {
    "name": "ipython",
    "version": 3
   },
   "file_extension": ".py",
   "mimetype": "text/x-python",
   "name": "python",
   "nbconvert_exporter": "python",
   "pygments_lexer": "ipython3",
   "version": "3.10.9"
  }
 },
 "nbformat": 4,
 "nbformat_minor": 2
}
