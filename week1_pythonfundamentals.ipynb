{
 "cells": [
  {
   "cell_type": "code",
   "execution_count": 22,
   "metadata": {},
   "outputs": [
    {
     "name": "stdout",
     "output_type": "stream",
     "text": [
      "hello world\n"
     ]
    }
   ],
   "source": [
    "print(\"hello world\")"
   ]
  },
  {
   "cell_type": "code",
   "execution_count": 23,
   "metadata": {},
   "outputs": [
    {
     "data": {
      "text/plain": [
       "12"
      ]
     },
     "execution_count": 23,
     "metadata": {},
     "output_type": "execute_result"
    }
   ],
   "source": [
    "string = \"Hello World!\"\n",
    "length = len(string)\n",
    "length"
   ]
  },
  {
   "cell_type": "code",
   "execution_count": 24,
   "metadata": {},
   "outputs": [
    {
     "data": {
      "text/plain": [
       "'Hello World!'"
      ]
     },
     "execution_count": 24,
     "metadata": {},
     "output_type": "execute_result"
    }
   ],
   "source": [
    "string = \"                Hello World!              \"\n",
    "#length = len(string)\n",
    "stripped = string.strip()\n",
    "stripped    "
   ]
  },
  {
   "cell_type": "code",
   "execution_count": 25,
   "metadata": {},
   "outputs": [
    {
     "data": {
      "text/plain": [
       "'Python Is Easy!'"
      ]
     },
     "execution_count": 25,
     "metadata": {},
     "output_type": "execute_result"
    }
   ],
   "source": [
    "string = \"PytHon is Easy!\"\n",
    "lower_case = string.lower()\n",
    "upper_case = string.upper()\n",
    "title_case = string.title()\n",
    "lower_case\n",
    "upper_case\n",
    "title_case"
   ]
  },
  {
   "cell_type": "code",
   "execution_count": 26,
   "metadata": {},
   "outputs": [
    {
     "data": {
      "text/plain": [
       "'I like apples'"
      ]
     },
     "execution_count": 26,
     "metadata": {},
     "output_type": "execute_result"
    }
   ],
   "source": [
    "string = \"I like bananas\"\n",
    "new_string = string.replace(\"bananas\", \"apples\")\n",
    "new_string"
   ]
  },
  {
   "cell_type": "markdown",
   "metadata": {},
   "source": [
    "Write a Python program that converts a username entered by a user from uppercase to lowercase. Begin by creating a variable to store the username in its original uppercase format."
   ]
  },
  {
   "cell_type": "code",
   "execution_count": 2,
   "metadata": {},
   "outputs": [
    {
     "name": "stdout",
     "output_type": "stream",
     "text": [
      "Original Username (Uppercase): Benny\n",
      "Converted Username (Lowercase): benny\n"
     ]
    }
   ],
   "source": [
    "username_upper = input(\"Enter your username in uppercase: \")\n",
    "\n",
    "username_lower = username_upper.lower()\n",
    "\n",
    "print(f\"Original Username (Uppercase): {username_upper}\")\n",
    "print(f\"Converted Username (Lowercase): {username_lower}\")"
   ]
  },
  {
   "cell_type": "markdown",
   "metadata": {},
   "source": [
    "Write a Python program to count the number of characters in the string below. Print the final output in the format: *The string contains ___ characters.*"
   ]
  },
  {
   "cell_type": "code",
   "execution_count": 3,
   "metadata": {},
   "outputs": [
    {
     "name": "stdout",
     "output_type": "stream",
     "text": [
      "The string contains 57 characters.\n"
     ]
    }
   ],
   "source": [
    "# Answer Exercise 2 Here\n",
    "string = \"Lorem ipsum dolor sit amett, consectetur adipiscing elit.\"\n",
    "\n",
    "num_characters = len(string)\n",
    "\n",
    "print(f\"The string contains {num_characters} characters.\")"
   ]
  },
  {
   "cell_type": "markdown",
   "metadata": {},
   "source": [
    "Create a Python program to extract and print the substring *\"Python\"* from the given string below.|"
   ]
  },
  {
   "cell_type": "code",
   "execution_count": 18,
   "metadata": {},
   "outputs": [
    {
     "name": "stdout",
     "output_type": "stream",
     "text": [
      "Python\n"
     ]
    }
   ],
   "source": [
    "# Answer Exercise 3 Here\n",
    "string = \"Many programmers enjoy using Python for its simplicity and power.\"\n",
    "\n",
    "# Find the start index of the substring \"Python\"\n",
    "start_index = string.find(\"Python\")\n",
    "\n",
    "# Extract the substring if found\n",
    "if start_index >0:\n",
    "    print(\"Python\")\n",
    "else:\n",
    "    print(\"Substring not found.\")"
   ]
  },
  {
   "cell_type": "markdown",
   "metadata": {},
   "source": [
    "1. Create a dictionary representing a library. Each book in the library should have an ISBN number as its key and a dictionary representing the book (with keys for 'title', 'author', and 'year') as its value.\n",
    " \n",
    "2. Add a new book to the library dictionary and print out the updated library."
   ]
  },
  {
   "cell_type": "code",
   "execution_count": 19,
   "metadata": {},
   "outputs": [
    {
     "name": "stdout",
     "output_type": "stream",
     "text": [
      "Initial library:\n",
      "ISBN: 978-3-16-148410-0 -> Title: The Great Gatsby, Author: F. Scott Fitzgerald, Year: 1925\n",
      "ISBN: 978-1-56619-909-4 -> Title: To Kill a Mockingbird, Author: Harper Lee, Year: 1960\n",
      "ISBN: 978-0-7432-7356-5 -> Title: 1984, Author: George Orwell, Year: 1949\n",
      "\n",
      "Updated library:\n",
      "ISBN: 978-3-16-148410-0 -> Title: The Great Gatsby, Author: F. Scott Fitzgerald, Year: 1925\n",
      "ISBN: 978-1-56619-909-4 -> Title: To Kill a Mockingbird, Author: Harper Lee, Year: 1960\n",
      "ISBN: 978-0-7432-7356-5 -> Title: 1984, Author: George Orwell, Year: 1949\n",
      "ISBN: 978-0-452-28423-4 -> Title: Brave New World, Author: Aldous Huxley, Year: 1932\n"
     ]
    }
   ],
   "source": [
    "# Define the initial library dictionary\n",
    "library = {\n",
    "    \"978-3-16-148410-0\": {\"title\": \"The Great Gatsby\", \"author\": \"F. Scott Fitzgerald\", \"year\": 1925},\n",
    "    \"978-1-56619-909-4\": {\"title\": \"To Kill a Mockingbird\", \"author\": \"Harper Lee\", \"year\": 1960},\n",
    "    \"978-0-7432-7356-5\": {\"title\": \"1984\", \"author\": \"George Orwell\", \"year\": 1949}\n",
    "}\n",
    "\n",
    "# Print the initial library\n",
    "print(\"Initial library:\")\n",
    "for isbn, details in library.items():\n",
    "    print(f\"ISBN: {isbn} -> Title: {details['title']}, Author: {details['author']}, Year: {details['year']}\")\n",
    "\n",
    "# Add a new book to the library\n",
    "new_book_isbn = \"978-0-452-28423-4\"\n",
    "new_book_details = {\n",
    "    \"title\": \"Brave New World\",\n",
    "    \"author\": \"Aldous Huxley\",\n",
    "    \"year\": 1932\n",
    "}\n",
    "\n",
    "library[new_book_isbn] = new_book_details\n",
    "\n",
    "# Print the updated library\n",
    "print(\"\\nUpdated library:\")\n",
    "for isbn, details in library.items():\n",
    "    print(f\"ISBN: {isbn} -> Title: {details['title']}, Author: {details['author']}, Year: {details['year']}\")"
   ]
  }
 ],
 "metadata": {
  "kernelspec": {
   "display_name": "Python 3",
   "language": "python",
   "name": "python3"
  },
  "language_info": {
   "codemirror_mode": {
    "name": "ipython",
    "version": 3
   },
   "file_extension": ".py",
   "mimetype": "text/x-python",
   "name": "python",
   "nbconvert_exporter": "python",
   "pygments_lexer": "ipython3",
   "version": "3.10.9"
  }
 },
 "nbformat": 4,
 "nbformat_minor": 2
}
