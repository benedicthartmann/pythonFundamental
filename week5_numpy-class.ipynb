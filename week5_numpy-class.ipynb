{
 "cells": [
  {
   "cell_type": "markdown",
   "id": "0e553330-e663-4ebd-a06c-d4ff758e1a0b",
   "metadata": {},
   "source": [
    "![Quote](http://darlington.infinityfreeapp.com/images/quote7.png)"
   ]
  },
  {
   "cell_type": "markdown",
   "id": "c9222354-c095-4ea4-8dd7-e2758e25d479",
   "metadata": {},
   "source": [
    "# 1. Introduction"
   ]
  },
  {
   "cell_type": "markdown",
   "id": "7c43a124-ce76-47e7-8309-ccb46a887dfd",
   "metadata": {},
   "source": [
    "Welcome to another insightful lesson in our Python Essentials course! In this important session, we will explore the basics of **using Python for data analysis**. Python, due to its simplicity and powerful libraries, stands out as the preferred language for data analysis worldwide. As data analysis has become increasingly important in various fields and industries, both individuals and organizations rely heavily on Python to make well-informed decisions based on data. By the end of this lesson, you'll gain valuable knowledge that will empower you and enhance your proficiency in this essential skill."
   ]
  },
  {
   "cell_type": "markdown",
   "id": "bec454a7-219c-4f44-8972-3b39e5e234a3",
   "metadata": {},
   "source": [
    "# 2. What is Data Analysis?"
   ]
  },
  {
   "cell_type": "markdown",
   "id": "a4075f73-d750-41f4-9534-ac867ef8d13f",
   "metadata": {},
   "source": [
    "Data analysis is the systematic process of **extracting valuable insights and knowledge from raw data**. In today's data-driven world, organizations across various sectors such as *business*, *finance*, *healthcare*, *marketing*, and *research* heavily depend on it to make informed decisions. By analyzing data, organizations and individuals can effectively solve real-world problems, identify emerging trends, detect anomalies, make accurate predictions, and optimize their business processes."
   ]
  },
  {
   "cell_type": "markdown",
   "id": "9f088f3d-f22f-4aa1-815d-01cf4da3212e",
   "metadata": {},
   "source": [
    "# 3. Python Libraries for Data Analysis"
   ]
  },
  {
   "cell_type": "markdown",
   "id": "bbc314cb-e8ee-4ec2-adfe-81c34188cec1",
   "metadata": {},
   "source": [
    "Python offers a wide range of libraries, such as **Pandas**, **NumPy**, and **Matplotlib**, for data analysis. These libraries provide powerful tools and functions to efficiently manipulate, clean, visualize, and analyze data."
   ]
  },
  {
   "cell_type": "markdown",
   "id": "7e161611-5f3c-46f2-9093-5e9c15e5246c",
   "metadata": {},
   "source": [
    "### 3.2 NumPy"
   ]
  },
  {
   "cell_type": "markdown",
   "id": "f98f1a19-59bc-476f-9951-28d298286d7a",
   "metadata": {},
   "source": [
    "NumPy (**Numerical Python**) is a powerful Python library used for **working with arrays and performing mathematical operations** on them."
   ]
  },
  {
   "cell_type": "markdown",
   "id": "8431100c-3b75-4304-adfe-4e9098b49e21",
   "metadata": {},
   "source": [
    "#### Using NumPy"
   ]
  },
  {
   "cell_type": "markdown",
   "id": "85fb5fb1-bec3-438f-8e56-0f8154cc89e6",
   "metadata": {},
   "source": [
    "**Install NumPy**: Before using NumPy, you need to install it. You can install NumPy using the following command:"
   ]
  },
  {
   "cell_type": "code",
   "execution_count": 1,
   "id": "984c4330-2549-4720-86b0-10cf0220265c",
   "metadata": {},
   "outputs": [
    {
     "name": "stdout",
     "output_type": "stream",
     "text": [
      "Requirement already satisfied: numpy in c:\\users\\benedict.hartmann\\appdata\\local\\programs\\python\\python310\\lib\\site-packages (2.0.1)\n"
     ]
    },
    {
     "name": "stderr",
     "output_type": "stream",
     "text": [
      "\n",
      "[notice] A new release of pip available: 22.3.1 -> 24.2\n",
      "[notice] To update, run: python.exe -m pip install --upgrade pip\n"
     ]
    }
   ],
   "source": [
    "# Installing numpy using Jupyter notebook\n",
    "!pip install numpy"
   ]
  },
  {
   "cell_type": "markdown",
   "id": "5af8b857-6fda-4e92-acc3-8cc04ed9b7e5",
   "metadata": {},
   "source": [
    "**Import NumPy**: Once NumPy is installed, you can import it into your Python program using the import statement. It is common practice to import NumPy with the alias **np** for better readability."
   ]
  },
  {
   "cell_type": "code",
   "execution_count": 2,
   "id": "656ad8eb-7668-4a00-b8f7-058b53e8e3ec",
   "metadata": {},
   "outputs": [],
   "source": [
    "# Importing numpy library\n",
    "import numpy as np"
   ]
  },
  {
   "cell_type": "markdown",
   "id": "1ee8bf4a-4fba-451f-919d-d168e32d9f69",
   "metadata": {},
   "source": [
    "**Performing Operations**: NumPy offers a wide range of functions and methods for efficiently performing various numerical operations on arrays, including data from your CSV file. With NumPy, we can effortlessly analyze our sales data, perform calculations, and tackle a variety of numerical tasks with ease."
   ]
  },
  {
   "cell_type": "markdown",
   "id": "bc37820a-009c-46d8-8bf0-4feb0390e8fd",
   "metadata": {},
   "source": [
    "### 3.3 Matplotlib"
   ]
  },
  {
   "cell_type": "markdown",
   "id": "402d6adf-4763-4729-8afe-dbc7305ebeb1",
   "metadata": {},
   "source": [
    "Matplotlib is a **plotting and visualization library** that enables you to create a wide variety of static, animated, and interactive visualizations in Python. With Matplotlib, you can generate plots, histograms, scatterplots, and more to explore and communicate your data effectively."
   ]
  },
  {
   "cell_type": "markdown",
   "id": "10c7b7b7-bc37-4b3e-b44e-e45d32d7b49e",
   "metadata": {},
   "source": [
    "#### Using Matplotlib"
   ]
  },
  {
   "cell_type": "markdown",
   "id": "b8e0b376-3812-4605-a1ed-c796e6e734cc",
   "metadata": {},
   "source": [
    "**Install Matplotlib**: Before you can use Matplotlib, you need to install it by running the following command:"
   ]
  },
  {
   "cell_type": "code",
   "execution_count": 3,
   "id": "6ab52d5d-7674-429d-9571-62eb38870329",
   "metadata": {},
   "outputs": [
    {
     "name": "stdout",
     "output_type": "stream",
     "text": [
      "Collecting matplotlib\n",
      "  Downloading matplotlib-3.9.2-cp310-cp310-win_amd64.whl (7.8 MB)\n",
      "     ---------------------------------------- 7.8/7.8 MB 10.2 MB/s eta 0:00:00\n",
      "Requirement already satisfied: python-dateutil>=2.7 in c:\\users\\benedict.hartmann\\appdata\\roaming\\python\\python310\\site-packages (from matplotlib) (2.9.0.post0)\n",
      "Collecting contourpy>=1.0.1\n",
      "  Downloading contourpy-1.3.0-cp310-cp310-win_amd64.whl (216 kB)\n",
      "     ------------------------------------- 216.0/216.0 kB 13.7 MB/s eta 0:00:00\n",
      "Collecting fonttools>=4.22.0\n",
      "  Downloading fonttools-4.54.1-cp310-cp310-win_amd64.whl (2.2 MB)\n",
      "     ---------------------------------------- 2.2/2.2 MB 15.6 MB/s eta 0:00:00\n",
      "Collecting cycler>=0.10\n",
      "  Downloading cycler-0.12.1-py3-none-any.whl (8.3 kB)\n",
      "Collecting kiwisolver>=1.3.1\n",
      "  Downloading kiwisolver-1.4.7-cp310-cp310-win_amd64.whl (55 kB)\n",
      "     ---------------------------------------- 55.9/55.9 kB 2.9 MB/s eta 0:00:00\n",
      "Collecting pillow>=8\n",
      "  Downloading pillow-10.4.0-cp310-cp310-win_amd64.whl (2.6 MB)\n",
      "     ---------------------------------------- 2.6/2.6 MB 16.3 MB/s eta 0:00:00\n",
      "Collecting pyparsing>=2.3.1\n",
      "  Downloading pyparsing-3.1.4-py3-none-any.whl (104 kB)\n",
      "     -------------------------------------- 104.1/104.1 kB 5.9 MB/s eta 0:00:00\n",
      "Requirement already satisfied: numpy>=1.23 in c:\\users\\benedict.hartmann\\appdata\\local\\programs\\python\\python310\\lib\\site-packages (from matplotlib) (2.0.1)\n",
      "Requirement already satisfied: packaging>=20.0 in c:\\users\\benedict.hartmann\\appdata\\roaming\\python\\python310\\site-packages (from matplotlib) (24.1)\n",
      "Requirement already satisfied: six>=1.5 in c:\\users\\benedict.hartmann\\appdata\\roaming\\python\\python310\\site-packages (from python-dateutil>=2.7->matplotlib) (1.16.0)\n",
      "Installing collected packages: pyparsing, pillow, kiwisolver, fonttools, cycler, contourpy, matplotlib\n",
      "Successfully installed contourpy-1.3.0 cycler-0.12.1 fonttools-4.54.1 kiwisolver-1.4.7 matplotlib-3.9.2 pillow-10.4.0 pyparsing-3.1.4\n"
     ]
    },
    {
     "name": "stderr",
     "output_type": "stream",
     "text": [
      "\n",
      "[notice] A new release of pip available: 22.3.1 -> 24.2\n",
      "[notice] To update, run: python.exe -m pip install --upgrade pip\n"
     ]
    }
   ],
   "source": [
    "# Installing matplotlib using Jupyter notebook\n",
    "!pip install matplotlib"
   ]
  },
  {
   "cell_type": "markdown",
   "id": "a0855a51",
   "metadata": {},
   "source": [
    "At the core of the NumPy package, is the ndarray object. This encapsulates n-dimensional arrays of homogeneous data types, with many operations being performed in compiled code for performance. There are several important differences between NumPy arrays and the standard Python sequences:\n",
    "\n",
    "- NumPy arrays have a fixed size at creation, unlike Python lists (which can grow dynamically). Changing the size of an ndarray will create a new array and delete the original.\n",
    "\n",
    "- The elements in a NumPy array are all required to be of the same data type, and thus will be the same size in memory. The exception: one can have arrays of (Python, including NumPy) objects, thereby allowing for arrays of different sized elements.\n",
    "\n",
    "- NumPy arrays facilitate advanced mathematical and other types of operations on large numbers of data. Typically, such operations are executed more efficiently and with less code than is possible using Python’s built-in sequences.\n",
    "\n",
    "A growing plethora of scientific and mathematical Python-based packages are using NumPy arrays; though these typically support Python-sequence input, they convert such input to NumPy arrays prior to processing, and they often output NumPy arrays. In other words, in order to efficiently use much (perhaps even most) of today’s scientific/mathematical Python-based software, just knowing how to use Python’s built-in sequence types is insufficient - one also needs to know how to use NumPy arrays."
   ]
  },
  {
   "cell_type": "code",
   "execution_count": 4,
   "id": "a656969c",
   "metadata": {},
   "outputs": [],
   "source": [
    "import numpy as np"
   ]
  },
  {
   "cell_type": "markdown",
   "id": "6dc32a82",
   "metadata": {},
   "source": [
    "Data Analysis and Visualization"
   ]
  },
  {
   "cell_type": "markdown",
   "id": "299fee14",
   "metadata": {},
   "source": [
    "Financial Mathematics"
   ]
  },
  {
   "cell_type": "code",
   "execution_count": 6,
   "id": "0d9da62a",
   "metadata": {},
   "outputs": [
    {
     "data": {
      "text/plain": [
       "numpy.ndarray"
      ]
     },
     "execution_count": 6,
     "metadata": {},
     "output_type": "execute_result"
    }
   ],
   "source": [
    "import numpy as np\n",
    "\n",
    "digit=np.array(range(1,11))\n",
    "type(digit)\n"
   ]
  },
  {
   "cell_type": "code",
   "execution_count": 9,
   "id": "0d08a440",
   "metadata": {},
   "outputs": [
    {
     "name": "stdout",
     "output_type": "stream",
     "text": [
      "(10,)\n",
      "[ 1  2  3  4  5  6  7  8  9 10]\n",
      "1\n"
     ]
    }
   ],
   "source": [
    "digit=np.array(np.arange(1,11))\n",
    "print(digit.shape)\n",
    "print(digit)\n",
    "print(digit.ndim)"
   ]
  },
  {
   "cell_type": "code",
   "execution_count": 29,
   "id": "a680d68e",
   "metadata": {},
   "outputs": [
    {
     "name": "stdout",
     "output_type": "stream",
     "text": [
      "[[[ 1]\n",
      "  [ 2]\n",
      "  [ 3]\n",
      "  [ 4]\n",
      "  [ 5]]\n",
      "\n",
      " [[ 6]\n",
      "  [ 7]\n",
      "  [ 8]\n",
      "  [ 9]\n",
      "  [10]]]\n",
      "(2, 5, 1)\n",
      "3\n"
     ]
    }
   ],
   "source": [
    "digit=np.array(np.arange(1,11)).reshape(2,5,1)\n",
    "print(digit)\n",
    "print(digit.shape)\n",
    "print(digit.ndim)"
   ]
  },
  {
   "cell_type": "code",
   "execution_count": 33,
   "id": "1cebc21d",
   "metadata": {},
   "outputs": [
    {
     "data": {
      "text/plain": [
       "530"
      ]
     },
     "execution_count": 33,
     "metadata": {},
     "output_type": "execute_result"
    }
   ],
   "source": [
    "len(dir(np))"
   ]
  },
  {
   "cell_type": "code",
   "execution_count": 35,
   "id": "8dc805d2",
   "metadata": {},
   "outputs": [
    {
     "data": {
      "text/plain": [
       "168"
      ]
     },
     "execution_count": 35,
     "metadata": {},
     "output_type": "execute_result"
    }
   ],
   "source": [
    "len(dir(digit))"
   ]
  },
  {
   "cell_type": "code",
   "execution_count": 36,
   "id": "572004c1",
   "metadata": {},
   "outputs": [
    {
     "data": {
      "text/plain": [
       "168"
      ]
     },
     "execution_count": 36,
     "metadata": {},
     "output_type": "execute_result"
    }
   ],
   "source": [
    "len(dir(digit))"
   ]
  },
  {
   "cell_type": "code",
   "execution_count": 37,
   "id": "c1776656",
   "metadata": {},
   "outputs": [
    {
     "data": {
      "text/plain": [
       "np.float64(5.5)"
      ]
     },
     "execution_count": 37,
     "metadata": {},
     "output_type": "execute_result"
    }
   ],
   "source": [
    "digit.mean()"
   ]
  },
  {
   "cell_type": "code",
   "execution_count": 42,
   "id": "76670444",
   "metadata": {},
   "outputs": [
    {
     "name": "stdout",
     "output_type": "stream",
     "text": [
      "2.87\n"
     ]
    }
   ],
   "source": [
    "print(np.round(digit.std(),2))"
   ]
  },
  {
   "cell_type": "code",
   "execution_count": 45,
   "id": "2921cf29",
   "metadata": {},
   "outputs": [
    {
     "name": "stdout",
     "output_type": "stream",
     "text": [
      "5.5\n"
     ]
    }
   ],
   "source": [
    "print(np.median(digit))"
   ]
  },
  {
   "cell_type": "code",
   "execution_count": 46,
   "id": "5254b1c5",
   "metadata": {},
   "outputs": [
    {
     "data": {
      "text/plain": [
       "np.float64(5.5)"
      ]
     },
     "execution_count": 46,
     "metadata": {},
     "output_type": "execute_result"
    }
   ],
   "source": [
    "np.mean(digit)"
   ]
  },
  {
   "cell_type": "code",
   "execution_count": 47,
   "id": "bbb0b9df",
   "metadata": {},
   "outputs": [
    {
     "data": {
      "text/plain": [
       "3"
      ]
     },
     "execution_count": 47,
     "metadata": {},
     "output_type": "execute_result"
    }
   ],
   "source": [
    "digit.ndim"
   ]
  },
  {
   "cell_type": "code",
   "execution_count": 56,
   "id": "4c1ec79b",
   "metadata": {},
   "outputs": [
    {
     "data": {
      "text/plain": [
       "array([[ 0,  1,  2,  3,  4],\n",
       "       [ 5,  6,  7,  8,  9],\n",
       "       [10, 11, 12, 13, 14],\n",
       "       [15, 16, 17, 18, 19],\n",
       "       [20, 21, 22, 23, 24],\n",
       "       [25, 26, 27, 28, 29],\n",
       "       [30, 31, 32, 33, 34],\n",
       "       [35, 36, 37, 38, 39],\n",
       "       [40, 41, 42, 43, 44],\n",
       "       [45, 46, 47, 48, 49],\n",
       "       [50, 51, 52, 53, 54],\n",
       "       [55, 56, 57, 58, 59],\n",
       "       [60, 61, 62, 63, 64],\n",
       "       [65, 66, 67, 68, 69],\n",
       "       [70, 71, 72, 73, 74],\n",
       "       [75, 76, 77, 78, 79],\n",
       "       [80, 81, 82, 83, 84],\n",
       "       [85, 86, 87, 88, 89],\n",
       "       [90, 91, 92, 93, 94],\n",
       "       [95, 96, 97, 98, 99]])"
      ]
     },
     "execution_count": 56,
     "metadata": {},
     "output_type": "execute_result"
    }
   ],
   "source": [
    "new_array = np.arange(100).reshape(20, 5)\n",
    "new_array"
   ]
  },
  {
   "cell_type": "code",
   "execution_count": 61,
   "id": "1cc85118",
   "metadata": {},
   "outputs": [],
   "source": [
    "new = new_array.T #transpose()"
   ]
  },
  {
   "cell_type": "code",
   "execution_count": 64,
   "id": "92866463",
   "metadata": {},
   "outputs": [
    {
     "data": {
      "text/plain": [
       "(5, 20)"
      ]
     },
     "execution_count": 64,
     "metadata": {},
     "output_type": "execute_result"
    }
   ],
   "source": [
    "new.shape"
   ]
  },
  {
   "cell_type": "code",
   "execution_count": 68,
   "id": "3c82d209",
   "metadata": {},
   "outputs": [
    {
     "data": {
      "text/plain": [
       "array([ 2.,  7., 12., 17., 22., 27., 32., 37., 42., 47., 52., 57., 62.,\n",
       "       67., 72., 77., 82., 87., 92., 97.])"
      ]
     },
     "execution_count": 68,
     "metadata": {},
     "output_type": "execute_result"
    }
   ],
   "source": [
    "new_array.mean(axis=1)"
   ]
  },
  {
   "cell_type": "code",
   "execution_count": 70,
   "id": "986ac5ee",
   "metadata": {},
   "outputs": [
    {
     "data": {
      "text/plain": [
       "array([[ 0,  1,  2],\n",
       "       [ 5,  6,  7],\n",
       "       [10, 11, 12],\n",
       "       [15, 16, 17],\n",
       "       [20, 21, 22],\n",
       "       [25, 26, 27],\n",
       "       [30, 31, 32],\n",
       "       [35, 36, 37],\n",
       "       [40, 41, 42],\n",
       "       [45, 46, 47]])"
      ]
     },
     "execution_count": 70,
     "metadata": {},
     "output_type": "execute_result"
    }
   ],
   "source": [
    "new_array[:10, 0:3]"
   ]
  },
  {
   "cell_type": "code",
   "execution_count": 75,
   "id": "cc65acc3",
   "metadata": {},
   "outputs": [
    {
     "data": {
      "text/plain": [
       "array([ 0,  2,  4,  6,  8, 10, 12, 14, 16, 18, 20, 22, 24, 26, 28, 30, 32,\n",
       "       34, 36, 38, 40, 42, 44, 46, 48, 50, 52, 54, 56, 58, 60, 62, 64, 66,\n",
       "       68, 70, 72, 74, 76, 78, 80, 82, 84, 86, 88, 90, 92, 94, 96, 98])"
      ]
     },
     "execution_count": 75,
     "metadata": {},
     "output_type": "execute_result"
    }
   ],
   "source": [
    "new_array[new_array%2== 0]"
   ]
  },
  {
   "cell_type": "code",
   "execution_count": 77,
   "id": "283392a4",
   "metadata": {},
   "outputs": [],
   "source": [
    "nm=new_array.sum(axis=1)<100\n",
    "\n"
   ]
  },
  {
   "cell_type": "code",
   "execution_count": 78,
   "id": "8fe6c5b8",
   "metadata": {},
   "outputs": [
    {
     "data": {
      "text/plain": [
       "array([[ 0,  1,  2,  3,  4],\n",
       "       [ 5,  6,  7,  8,  9],\n",
       "       [10, 11, 12, 13, 14],\n",
       "       [15, 16, 17, 18, 19]])"
      ]
     },
     "execution_count": 78,
     "metadata": {},
     "output_type": "execute_result"
    }
   ],
   "source": [
    "new_array[nm]"
   ]
  },
  {
   "cell_type": "code",
   "execution_count": 82,
   "id": "7cc0ff53",
   "metadata": {},
   "outputs": [
    {
     "data": {
      "text/plain": [
       "array([[  5,   1,   7,   1,   9],\n",
       "       [  1,  11,   1,  13,   1],\n",
       "       [ 15,   1,  17,   1,  19],\n",
       "       [  1,  21,   1,  23,   1],\n",
       "       [ 25,   1,  27,   1,  29],\n",
       "       [  1,  31,   1,  33,   1],\n",
       "       [ 35,   1,  37,   1,  39],\n",
       "       [  1,  41,   1,  43,   1],\n",
       "       [ 45,   1,  47,   1,  49],\n",
       "       [  1,  51,   1,  53,   1],\n",
       "       [ 55,   1,  57,   1,  59],\n",
       "       [  1,  61,   1,  63,   1],\n",
       "       [ 65,   1,  67,   1,  69],\n",
       "       [  1,  71,   1,  73,   1],\n",
       "       [ 75,   1,  77,   1,  79],\n",
       "       [  1,  81,   1,  83,   1],\n",
       "       [ 85,   1,  87,   1,  89],\n",
       "       [  1,  91,   1,  93,   1],\n",
       "       [ 95,   1,  97,   1,  99],\n",
       "       [  1, 101,   1, 103,   1]])"
      ]
     },
     "execution_count": 82,
     "metadata": {},
     "output_type": "execute_result"
    }
   ],
   "source": [
    "np.add(new_array,5, where=(new_array%2==0))"
   ]
  },
  {
   "cell_type": "code",
   "execution_count": null,
   "id": "5f014df2",
   "metadata": {},
   "outputs": [],
   "source": []
  },
  {
   "cell_type": "markdown",
   "id": "d41cc08d",
   "metadata": {},
   "source": [
    "### Exersice"
   ]
  },
  {
   "cell_type": "markdown",
   "id": "874ed40a",
   "metadata": {},
   "source": [
    "You have daily stock prices of a company for the last month, and you want to calculate important statistics like the average price, highest and lowest prices, and the percentage changes day-to-day. (python mit numpy)"
   ]
  },
  {
   "cell_type": "code",
   "execution_count": 84,
   "id": "d5b8ec7f",
   "metadata": {},
   "outputs": [
    {
     "data": {
      "text/plain": [
       "[150.5,\n",
       " 152.3,\n",
       " 151.2,\n",
       " 154.1,\n",
       " 153.7,\n",
       " 152.8,\n",
       " 151.0,\n",
       " 149.8,\n",
       " 151.7,\n",
       " 152.4,\n",
       " 153.1,\n",
       " 154.7,\n",
       " 155.2,\n",
       " 157.0,\n",
       " 156.5,\n",
       " 158.1,\n",
       " 159.2,\n",
       " 160.0,\n",
       " 161.5,\n",
       " 162.7,\n",
       " 161.2,\n",
       " 160.8,\n",
       " 159.6,\n",
       " 158.2,\n",
       " 157.3,\n",
       " 156.1,\n",
       " 157.9,\n",
       " 159.0,\n",
       " 158.4,\n",
       " 157.7]"
      ]
     },
     "execution_count": 84,
     "metadata": {},
     "output_type": "execute_result"
    }
   ],
   "source": [
    "[150.5, 152.3, 151.2, 154.1, 153.7, 152.8, 151.0, 149.8, 151.7,\n",
    "                         152.4, 153.1, 154.7, 155.2, 157.0, 156.5, 158.1, 159.2, 160.0,\n",
    "                         161.5, 162.7, 161.2, 160.8, 159.6, 158.2, 157.3, 156.1, 157.9,\n",
    "                         159.0, 158.4, 157.7]"
   ]
  },
  {
   "cell_type": "code",
   "execution_count": 89,
   "id": "d0804705",
   "metadata": {},
   "outputs": [
    {
     "name": "stdout",
     "output_type": "stream",
     "text": [
      "Average price: 156.12\n",
      "Highest price: 162.7\n",
      "lowest price: 149.8\n",
      "percentage changes: [ 1.19601329 -0.7222587   1.91798942 -0.25957171 -0.58555628 -1.17801047\n",
      " -0.79470199  1.26835781  0.46143705  0.45931759  1.04506858  0.32320621\n",
      "  1.15979381 -0.31847134  1.02236422  0.69576218  0.50251256  0.9375\n",
      "  0.74303406 -0.92194222 -0.24813896 -0.74626866 -0.87719298 -0.56890013\n",
      " -0.76287349  1.15310698  0.69664345 -0.37735849 -0.44191919]\n"
     ]
    }
   ],
   "source": [
    "import numpy as np\n",
    "\n",
    "prices = np.array([150.5, 152.3, 151.2, 154.1, 153.7, 152.8, 151.0, 149.8, 151.7,\n",
    "                         152.4, 153.1, 154.7, 155.2, 157.0, 156.5, 158.1, 159.2, 160.0,\n",
    "                         161.5, 162.7, 161.2, 160.8, 159.6, 158.2, 157.3, 156.1, 157.9,\n",
    "                         159.0, 158.4, 157.7])\n",
    "\n",
    "average = np.mean(prices)\n",
    "highest = np.max(prices)\n",
    "lowest = np.min(prices)\n",
    "percentage_changes = np.diff(prices) / prices[:-1] *100\n",
    "\n",
    "\n",
    "print(f\"Average price: {average:.2f}\")\n",
    "print(f\"Highest price: {highest}\")\n",
    "print(f\"lowest price: {lowest}\")\n",
    "print(f\"percentage changes: {percentage_changes}\")"
   ]
  }
 ],
 "metadata": {
  "kernelspec": {
   "display_name": "Python 3 (ipykernel)",
   "language": "python",
   "name": "python3"
  },
  "language_info": {
   "codemirror_mode": {
    "name": "ipython",
    "version": 3
   },
   "file_extension": ".py",
   "mimetype": "text/x-python",
   "name": "python",
   "nbconvert_exporter": "python",
   "pygments_lexer": "ipython3",
   "version": "3.10.9"
  }
 },
 "nbformat": 4,
 "nbformat_minor": 5
}
