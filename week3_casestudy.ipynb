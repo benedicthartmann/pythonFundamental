{
 "cells": [
  {
   "cell_type": "code",
   "execution_count": 3,
   "metadata": {},
   "outputs": [
    {
     "name": "stdout",
     "output_type": "stream",
     "text": [
      "Encrypted: KRZ DUH BRX GXGH\n",
      "Decrypted: HOW ARE YOU DUDE\n"
     ]
    }
   ],
   "source": [
    "def caesar_cipher(text, shift, mode='encrypt'):\n",
    "    # Alphabet list for reference\n",
    "    alphabet = 'ABCDEFGHIJKLMNOPQRSTUVWXYZ'\n",
    "    \n",
    "    # Adjust the shift for decryption\n",
    "    if mode == 'decrypt':\n",
    "        shift = -shift\n",
    "\n",
    "    result = ''\n",
    "\n",
    "    # Iterate over each character in the input text\n",
    "    for char in text.upper():\n",
    "        if char in alphabet:\n",
    "            # Find the position of the character in the alphabet\n",
    "            old_pos = alphabet.index(char)\n",
    "            # Calculate the new position, considering the shift (using modulo for wrap-around)\n",
    "            new_pos = (old_pos + shift) % 26\n",
    "            result += alphabet[new_pos]\n",
    "        else:\n",
    "            # Non-alphabet characters remain unchanged\n",
    "            result += char\n",
    "\n",
    "    return result\n",
    "\n",
    "\n",
    "# Example usage\n",
    "plaintext = \"HOW ARE YOU DUDE\"\n",
    "shift = 3\n",
    "\n",
    "# Encrypt the message\n",
    "ciphertext = caesar_cipher(plaintext, shift, mode='encrypt')\n",
    "print(\"Encrypted:\", ciphertext)\n",
    "\n",
    "# Decrypt the message\n",
    "decrypted_text = caesar_cipher(ciphertext, shift, mode='decrypt')\n",
    "print(\"Decrypted:\", decrypted_text)\n"
   ]
  }
 ],
 "metadata": {
  "kernelspec": {
   "display_name": "Python 3",
   "language": "python",
   "name": "python3"
  },
  "language_info": {
   "codemirror_mode": {
    "name": "ipython",
    "version": 3
   },
   "file_extension": ".py",
   "mimetype": "text/x-python",
   "name": "python",
   "nbconvert_exporter": "python",
   "pygments_lexer": "ipython3",
   "version": "3.10.9"
  }
 },
 "nbformat": 4,
 "nbformat_minor": 2
}
