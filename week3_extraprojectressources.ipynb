{
 "cells": [
  {
   "cell_type": "code",
   "execution_count": 3,
   "metadata": {},
   "outputs": [
    {
     "name": "stdout",
     "output_type": "stream",
     "text": [
      "Files cleaned up successfully!\n",
      "95 files moved to the following locations:\n",
      "\"C:\\Users\\Benedict.Hartmann\\Deutsche Bildung AG\\Team Finanzen - General\\903_Benny\\Scalework\\Phase 2\\Week 3\\messy\\images\"\n",
      "\"C:\\Users\\Benedict.Hartmann\\Deutsche Bildung AG\\Team Finanzen - General\\903_Benny\\Scalework\\Phase 2\\Week 3\\messy\\text_files\"\n",
      "\"C:\\Users\\Benedict.Hartmann\\Deutsche Bildung AG\\Team Finanzen - General\\903_Benny\\Scalework\\Phase 2\\Week 3\\messy\\PowerPoint\"\n",
      "\"C:\\Users\\Benedict.Hartmann\\Deutsche Bildung AG\\Team Finanzen - General\\903_Benny\\Scalework\\Phase 2\\Week 3\\messy\\other_files\"\n"
     ]
    }
   ],
   "source": [
    "import os\n",
    "import shutil\n",
    "\n",
    "def clean_up_folder(directory):\n",
    "    # Create a dictionary to hold the file types and their corresponding folder names\n",
    "    file_types = {\n",
    "        'images': ['.jpg', '.jpeg', '.png', '.gif', '.bmp', '.tiff'],\n",
    "        'text_files': ['.txt', '.csv', '.log'],\n",
    "        'PowerPoint': ['.ppt', '.pptx'],\n",
    "        'other_files': []  # This will hold files that do not match any predefined types\n",
    "    }\n",
    "    \n",
    "    # Create folders for each file type if they don't exist\n",
    "    for folder in file_types.keys():\n",
    "        folder_path = os.path.join(directory, folder)\n",
    "        os.makedirs(folder_path, exist_ok=True)\n",
    "    \n",
    "    # Move files to their respective folders\n",
    "    total_moved_files = 0\n",
    "    for filename in os.listdir(directory):\n",
    "        if os.path.isfile(os.path.join(directory, filename)):\n",
    "            moved = False\n",
    "            for folder, extensions in file_types.items():\n",
    "                if any(filename.lower().endswith(ext) for ext in extensions):\n",
    "                    # Move file to the corresponding folder\n",
    "                    shutil.move(os.path.join(directory, filename), os.path.join(directory, folder, filename))\n",
    "                    total_moved_files += 1\n",
    "                    moved = True\n",
    "                    break\n",
    "            \n",
    "            # If no matching folder found, move to 'other_files'\n",
    "            if not moved:\n",
    "                shutil.move(os.path.join(directory, filename), os.path.join(directory, 'other_files', filename))\n",
    "                total_moved_files += 1\n",
    "    \n",
    "    # Display message\n",
    "    print(\"Files cleaned up successfully!\")\n",
    "    print(f\"{total_moved_files} files moved to the following locations:\")\n",
    "    for folder in file_types.keys():\n",
    "        print(f'\"{os.path.join(directory, folder)}\"')\n",
    "\n",
    "if __name__ == \"__main__\":\n",
    "    # Take the directory path as input\n",
    "    directory = input('Enter the directory path: ')\n",
    "    clean_up_folder(directory)\n"
   ]
  },
  {
   "cell_type": "code",
   "execution_count": 6,
   "metadata": {},
   "outputs": [
    {
     "name": "stdout",
     "output_type": "stream",
     "text": [
      "Results:\n",
      "\"and\" occurs 36 times in the text file.\n",
      "\"to\" occurs 21 times in the text file.\n",
      "\"where\" occurs 0 times in the text file.\n"
     ]
    }
   ],
   "source": [
    "import string\n",
    "\n",
    "def count_words_in_file(file_name, words_to_count):\n",
    "    try:\n",
    "        # Read the contents of the file\n",
    "        with open(file_name, 'r', encoding='utf-8') as file:\n",
    "            text = file.read()\n",
    "        \n",
    "        # Remove punctuation and convert text to lowercase\n",
    "        text = text.translate(str.maketrans('', '', string.punctuation)).lower()\n",
    "        \n",
    "        # Split the text into words\n",
    "        words = text.split()\n",
    "        \n",
    "        # Create a dictionary to count occurrences\n",
    "        word_count = {word.lower(): 0 for word in words_to_count}\n",
    "        \n",
    "        # Count occurrences of each word\n",
    "        for word in words:\n",
    "            if word in word_count:\n",
    "                word_count[word] += 1\n",
    "        \n",
    "        # Display results\n",
    "        print(\"Results:\")\n",
    "        for word in words_to_count:\n",
    "            print(f'\"{word}\" occurs {word_count[word.lower()]} times in the text file.')\n",
    "    \n",
    "    except FileNotFoundError:\n",
    "        print(\"Error: The file was not found.\")\n",
    "    except Exception as e:\n",
    "        print(f\"An error occurred while reading the file: {e}\")\n",
    "\n",
    "def main():\n",
    "    # Take file path and words from user\n",
    "    file_name = input(\"Enter the full path of the file: \")\n",
    "    words_input = input(\"Enter the words to count (separated by commas): \")\n",
    "    words_to_count = [word.strip() for word in words_input.split(',')]\n",
    "    \n",
    "    # Count the words in the specified file\n",
    "    count_words_in_file(file_name, words_to_count)\n",
    "\n",
    "if __name__ == \"__main__\":\n",
    "    main()\n"
   ]
  }
 ],
 "metadata": {
  "kernelspec": {
   "display_name": "Python 3",
   "language": "python",
   "name": "python3"
  },
  "language_info": {
   "codemirror_mode": {
    "name": "ipython",
    "version": 3
   },
   "file_extension": ".py",
   "mimetype": "text/x-python",
   "name": "python",
   "nbconvert_exporter": "python",
   "pygments_lexer": "ipython3",
   "version": "3.10.9"
  }
 },
 "nbformat": 4,
 "nbformat_minor": 2
}
