{
 "cells": [
  {
   "cell_type": "code",
   "execution_count": 10,
   "metadata": {},
   "outputs": [
    {
     "name": "stdout",
     "output_type": "stream",
     "text": [
      "Decrypted message: HEY DUDE HOW ARE YOU\n"
     ]
    }
   ],
   "source": [
    "# Caesar Cipher program for encryption and decryption\n",
    "\n",
    "def caesar_cipher(text, shift, mode='encrypt'):\n",
    "    result = ''\n",
    "    \n",
    "    # For decrypting, invert the shift\n",
    "    if mode == 'decrypt':\n",
    "        shift = -shift\n",
    "\n",
    "    # Traverse each character in the input text\n",
    "    for char in text:\n",
    "        if char.isalpha():\n",
    "            # Handle uppercase and lowercase letters\n",
    "            base = ord('A') if char.isupper() else ord('a')\n",
    "            result += chr((ord(char) - base + shift) % 26 + base)\n",
    "        else:\n",
    "            # If it's not a letter, just add it without change\n",
    "            result += char\n",
    "    \n",
    "    return result\n",
    "\n",
    "\n",
    "# Input from the user\n",
    "message = input(\"Enter the message you want to encrypt or decrypt: \")\n",
    "shift = 3\n",
    "action = input(\"Type 'encrypt' to encrypt or 'decrypt' to decrypt: \").lower()\n",
    "\n",
    "# Encrypt or decrypt the message\n",
    "if action == 'encrypt':\n",
    "    encrypted_message = caesar_cipher(message, shift, 'encrypt')\n",
    "    print(f\"Encrypted message: {encrypted_message}\")\n",
    "elif action == 'decrypt':\n",
    "    decrypted_message = caesar_cipher(message, shift, 'decrypt')\n",
    "    print(f\"Decrypted message: {decrypted_message}\")\n",
    "else:\n",
    "    print(\"Invalid action! Please type 'encrypt' or 'decrypt'.\")\n"
   ]
  }
 ],
 "metadata": {
  "kernelspec": {
   "display_name": "Python 3",
   "language": "python",
   "name": "python3"
  },
  "language_info": {
   "codemirror_mode": {
    "name": "ipython",
    "version": 3
   },
   "file_extension": ".py",
   "mimetype": "text/x-python",
   "name": "python",
   "nbconvert_exporter": "python",
   "pygments_lexer": "ipython3",
   "version": "3.10.9"
  }
 },
 "nbformat": 4,
 "nbformat_minor": 2
}
