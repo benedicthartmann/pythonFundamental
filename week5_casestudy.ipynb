{
 "cells": [
  {
   "cell_type": "markdown",
   "metadata": {},
   "source": [
    "\n",
    "\n",
    "Analysing Sales\n",
    "\n",
    "You have been given a dataset containing information about sales transactions for the month of September and October. Your task is to perform data analysis to answer the following questions and provide insights to improve business decisions.\n",
    "\n",
    "\n",
    "    What is the total sales for each month?\n",
    "    What is the average daily sales for each month?\n",
    "    What Region generated the highest sales?\n",
    "    Which product category had the lowest impact?\n",
    "    Identify the top selling products\n",
    "    Based on your analysis what recommendation would to give to improve sales in November. \n",
    "\n"
   ]
  },
  {
   "cell_type": "code",
   "execution_count": 9,
   "metadata": {},
   "outputs": [
    {
     "data": {
      "text/html": [
       "<div>\n",
       "<style scoped>\n",
       "    .dataframe tbody tr th:only-of-type {\n",
       "        vertical-align: middle;\n",
       "    }\n",
       "\n",
       "    .dataframe tbody tr th {\n",
       "        vertical-align: top;\n",
       "    }\n",
       "\n",
       "    .dataframe thead th {\n",
       "        text-align: right;\n",
       "    }\n",
       "</style>\n",
       "<table border=\"1\" class=\"dataframe\">\n",
       "  <thead>\n",
       "    <tr style=\"text-align: right;\">\n",
       "      <th></th>\n",
       "      <th>Date</th>\n",
       "      <th>Region</th>\n",
       "      <th>Category</th>\n",
       "      <th>Sales($)</th>\n",
       "      <th>ProductID</th>\n",
       "    </tr>\n",
       "  </thead>\n",
       "  <tbody>\n",
       "    <tr>\n",
       "      <th>0</th>\n",
       "      <td>01/09/2023</td>\n",
       "      <td>East</td>\n",
       "      <td>Electronics</td>\n",
       "      <td>1200.50</td>\n",
       "      <td>E1234</td>\n",
       "    </tr>\n",
       "    <tr>\n",
       "      <th>1</th>\n",
       "      <td>02/09/2023</td>\n",
       "      <td>West</td>\n",
       "      <td>Apparel</td>\n",
       "      <td>350.75</td>\n",
       "      <td>A4567</td>\n",
       "    </tr>\n",
       "    <tr>\n",
       "      <th>2</th>\n",
       "      <td>03/09/2023</td>\n",
       "      <td>North</td>\n",
       "      <td>Furniture</td>\n",
       "      <td>890.20</td>\n",
       "      <td>F7890</td>\n",
       "    </tr>\n",
       "    <tr>\n",
       "      <th>3</th>\n",
       "      <td>04/09/2023</td>\n",
       "      <td>South</td>\n",
       "      <td>Electronics</td>\n",
       "      <td>550.40</td>\n",
       "      <td>E2345</td>\n",
       "    </tr>\n",
       "    <tr>\n",
       "      <th>4</th>\n",
       "      <td>05/09/2023</td>\n",
       "      <td>East</td>\n",
       "      <td>Appliances</td>\n",
       "      <td>420.60</td>\n",
       "      <td>A6789</td>\n",
       "    </tr>\n",
       "  </tbody>\n",
       "</table>\n",
       "</div>"
      ],
      "text/plain": [
       "         Date Region     Category  Sales($) ProductID\n",
       "0  01/09/2023   East  Electronics   1200.50     E1234\n",
       "1  02/09/2023   West      Apparel    350.75     A4567\n",
       "2  03/09/2023  North    Furniture    890.20     F7890\n",
       "3  04/09/2023  South  Electronics    550.40     E2345\n",
       "4  05/09/2023   East   Appliances    420.60     A6789"
      ]
     },
     "execution_count": 9,
     "metadata": {},
     "output_type": "execute_result"
    }
   ],
   "source": [
    "import pandas as pd\n",
    "\n",
    "sales_df = pd.read_csv('Sales-230913-134411.csv')\n",
    "\n",
    "sales_df.head()"
   ]
  },
  {
   "cell_type": "code",
   "execution_count": 19,
   "metadata": {},
   "outputs": [
    {
     "data": {
      "text/plain": [
       "Month\n",
       "October      17354.65\n",
       "September    17924.40\n",
       "Name: Sales($), dtype: float64"
      ]
     },
     "execution_count": 19,
     "metadata": {},
     "output_type": "execute_result"
    }
   ],
   "source": [
    "#    What is the total sales for each month?\n",
    "sales_df['Date'] = pd.to_datetime(sales_df['Date'], format='%d/%m/%Y')\n",
    "\n",
    "\n",
    "sales_df['Month'] = sales_df['Date'].dt.month_name()\n",
    "\n",
    "total_sales_month = sales_df.groupby('Month')['Sales($)'].sum()\n",
    "\n",
    "total_sales_month"
   ]
  },
  {
   "cell_type": "code",
   "execution_count": 31,
   "metadata": {},
   "outputs": [
    {
     "name": "stdout",
     "output_type": "stream",
     "text": [
      "Month\n",
      "October      559.827419\n",
      "September    597.480000\n",
      "Name: Sales($), dtype: float64.\n"
     ]
    }
   ],
   "source": [
    " #  What is the average daily sales for each month?\n",
    "\n",
    "average_daily_sales_by_month = sales_df.groupby('Month')['Sales($)'].mean()\n",
    "\n",
    "print(f'{average_daily_sales_by_month}.')"
   ]
  },
  {
   "cell_type": "code",
   "execution_count": 36,
   "metadata": {},
   "outputs": [
    {
     "data": {
      "text/plain": [
       "Region\n",
       "North    12767.0\n",
       "Name: Sales($), dtype: float64"
      ]
     },
     "execution_count": 36,
     "metadata": {},
     "output_type": "execute_result"
    }
   ],
   "source": [
    " # What Region generated the highest sales?\n",
    "\n",
    "highest_sales_region = sales_df.groupby('Region')['Sales($)'].sum().sort_values(ascending=False).head(1)\n",
    "\n",
    "highest_sales_region"
   ]
  },
  {
   "cell_type": "code",
   "execution_count": 39,
   "metadata": {},
   "outputs": [
    {
     "data": {
      "text/plain": [
       "Category\n",
       "Appliances      5878.30\n",
       "Apparel         6048.25\n",
       "Electronics    10585.50\n",
       "Furniture      12767.00\n",
       "Name: Sales($), dtype: float64"
      ]
     },
     "execution_count": 39,
     "metadata": {},
     "output_type": "execute_result"
    }
   ],
   "source": [
    "#  Which product category had the lowest impact?\n",
    "\n",
    "lowest_impact_category = sales_df.groupby('Category')['Sales($)'].sum().sort_values(ascending=True)\n",
    "lowest_impact_category"
   ]
  },
  {
   "cell_type": "code",
   "execution_count": 43,
   "metadata": {},
   "outputs": [
    {
     "data": {
      "text/plain": [
       "ProductID\n",
       "F5678    3642.2\n",
       "E2345    2621.4\n",
       "A6789    2413.5\n",
       "F1236    1841.8\n",
       "A1234    1742.0\n",
       "Name: Sales($), dtype: float64"
      ]
     },
     "execution_count": 43,
     "metadata": {},
     "output_type": "execute_result"
    }
   ],
   "source": [
    "# Identify the top selling products\n",
    "\n",
    "top_selling_product = sales_df.groupby('ProductID')['Sales($)'].sum().sort_values(ascending=False).head()\n",
    "\n",
    "top_selling_product"
   ]
  },
  {
   "cell_type": "code",
   "execution_count": 45,
   "metadata": {},
   "outputs": [
    {
     "data": {
      "text/plain": [
       "'\\n\\nFocus on boosting sales in regions other than the North, as it is already the top-performing region. \\nMarketing and promotions can be targeted in the East, South, and West regions.\\n\\nConsider developing more targeted strategies for product categories like Appliances, which had the lowest sales, possibly through discounts.\\n\\nAnalyze the reasons behind the success of top-selling products like F5678 and E2345 and apply similar strategies to other underperforming products.\\n\\n'"
      ]
     },
     "execution_count": 45,
     "metadata": {},
     "output_type": "execute_result"
    }
   ],
   "source": [
    " #   Based on your analysis what recommendation would to give to improve sales in November. \n",
    "\n",
    "'''\n",
    "\n",
    "Focus on boosting sales in regions other than the North, as it is already the top-performing region. \n",
    "Marketing and promotions can be targeted in the East, South, and West regions.\n",
    "\n",
    "Consider developing more targeted strategies for product categories like Appliances, which had the lowest sales, possibly through discounts.\n",
    "\n",
    "Analyze the reasons behind the success of top-selling products like F5678 and E2345 and apply similar strategies to other underperforming products.\n",
    "\n",
    "'''\n",
    "\n"
   ]
  }
 ],
 "metadata": {
  "kernelspec": {
   "display_name": "Python 3",
   "language": "python",
   "name": "python3"
  },
  "language_info": {
   "codemirror_mode": {
    "name": "ipython",
    "version": 3
   },
   "file_extension": ".py",
   "mimetype": "text/x-python",
   "name": "python",
   "nbconvert_exporter": "python",
   "pygments_lexer": "ipython3",
   "version": "3.10.9"
  }
 },
 "nbformat": 4,
 "nbformat_minor": 2
}
