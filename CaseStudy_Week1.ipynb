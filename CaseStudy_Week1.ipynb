{
 "cells": [
  {
   "cell_type": "code",
   "execution_count": null,
   "metadata": {},
   "outputs": [],
   "source": [
    "def calculate_tip_and_tax():\n",
    "\n",
    "\n",
    "\n"
   ]
  },
  {
   "cell_type": "code",
   "execution_count": 1,
   "metadata": {},
   "outputs": [
    {
     "name": "stdout",
     "output_type": "stream",
     "text": [
      "Tip = $18.00\n",
      "Sales Tax = $7.00\n",
      "Total Bill = $125.00\n"
     ]
    }
   ],
   "source": [
    "charge_for_food = float(input(\"Charge for food = $\"))\n",
    "\n",
    "tip_percentage = 0.18\n",
    "sales_tax_percentage = 0.07\n",
    "\n",
    "tip_amount = charge_for_food * tip_percentage\n",
    "\n",
    "sales_tax_amount = charge_for_food * sales_tax_percentage\n",
    "\n",
    "grand_total = charge_for_food + tip_amount + sales_tax_amount\n",
    "\n",
    "print(f\"Tip = ${tip_amount:.2f}\")\n",
    "print(f\"Sales Tax = ${sales_tax_amount:.2f}\")\n",
    "print(f\"Total Bill = ${grand_total:.2f}\")\n",
    "\n",
    "\n",
    "\n",
    "\n"
   ]
  }
 ],
 "metadata": {
  "kernelspec": {
   "display_name": "Python 3",
   "language": "python",
   "name": "python3"
  },
  "language_info": {
   "codemirror_mode": {
    "name": "ipython",
    "version": 3
   },
   "file_extension": ".py",
   "mimetype": "text/x-python",
   "name": "python",
   "nbconvert_exporter": "python",
   "pygments_lexer": "ipython3",
   "version": "3.10.9"
  }
 },
 "nbformat": 4,
 "nbformat_minor": 2
}
